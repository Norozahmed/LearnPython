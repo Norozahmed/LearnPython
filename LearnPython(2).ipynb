{
 "cells": [
  {
   "cell_type": "markdown",
   "metadata": {
    "id": "-dYma2ip3A70"
   },
   "source": [
    "# Learning Python (second part)"
   ]
  },
  {
   "cell_type": "markdown",
   "metadata": {
    "id": "kXsvqwCd258d"
   },
   "source": [
    "## [Lists](https://www.geeksforgeeks.org/python-lists/) in Python  \n",
    "\n",
    "In Python, a list is a versatile, ordered, and mutable collection of items. Lists are one of the most commonly used data structures and are defined using square brackets [ ]. Here's an overview of lists in Python:"
   ]
  },
  {
   "cell_type": "markdown",
   "metadata": {
    "id": "J-whD1DO3qqM"
   },
   "source": [
    "### *Creating a list*  \n",
    "You can create a list by enclosing elements in square brackets [], separated by commas.*italicized text*"
   ]
  },
  {
   "cell_type": "code",
   "execution_count": null,
   "metadata": {
    "colab": {
     "base_uri": "https://localhost:8080/"
    },
    "executionInfo": {
     "elapsed": 658,
     "status": "ok",
     "timestamp": 1738251655417,
     "user": {
      "displayName": "Nb Baloch",
      "userId": "06738841947808833806"
     },
     "user_tz": -240
    },
    "id": "Ena7x-6m2h9X",
    "outputId": "d2e1cd4d-01cc-41a7-c1de-b9ca5bcc9efe"
   },
   "outputs": [
    {
     "name": "stdout",
     "output_type": "stream",
     "text": [
      "[1, 2, 3, 4, 5]\n"
     ]
    }
   ],
   "source": [
    "# Example of a list\n",
    "my_list = [1, 2, 3, 4, 5]\n",
    "print(my_list)  # Output: [1, 2, 3, 4, 5]"
   ]
  },
  {
   "cell_type": "markdown",
   "metadata": {
    "id": "dU424kT0334_"
   },
   "source": [
    "Lists can contain elements of different data types, including numbers, strings, booleans, or even other lists."
   ]
  },
  {
   "cell_type": "code",
   "execution_count": null,
   "metadata": {
    "colab": {
     "base_uri": "https://localhost:8080/"
    },
    "executionInfo": {
     "elapsed": 524,
     "status": "ok",
     "timestamp": 1738251688339,
     "user": {
      "displayName": "Nb Baloch",
      "userId": "06738841947808833806"
     },
     "user_tz": -240
    },
    "id": "g2XDPqHl3ZIu",
    "outputId": "70604a74-aa91-4a38-aea7-3c38cb3b2ec8"
   },
   "outputs": [
    {
     "name": "stdout",
     "output_type": "stream",
     "text": [
      "[1, 'hello', 3.14, True, [1, 2, 3]]\n"
     ]
    }
   ],
   "source": [
    "mixed_list = [1, \"hello\", 3.14, True, [1, 2, 3]]\n",
    "print(mixed_list)  # Output: [1, 'hello', 3.14, True, [1, 2, 3]]"
   ]
  },
  {
   "cell_type": "markdown",
   "metadata": {
    "id": "mmJOm4OE3_EL"
   },
   "source": [
    "### *Accessing List Elements*\n",
    "\n",
    "You can access elements in a list using their index. Python uses zero-based indexing, meaning the first element is at index *0*."
   ]
  },
  {
   "cell_type": "code",
   "execution_count": null,
   "metadata": {
    "colab": {
     "base_uri": "https://localhost:8080/"
    },
    "executionInfo": {
     "elapsed": 488,
     "status": "ok",
     "timestamp": 1738251746955,
     "user": {
      "displayName": "Nb Baloch",
      "userId": "06738841947808833806"
     },
     "user_tz": -240
    },
    "id": "W58LAO9C36-l",
    "outputId": "673462e6-cafc-4ae6-906a-20d90ad8f9aa"
   },
   "outputs": [
    {
     "name": "stdout",
     "output_type": "stream",
     "text": [
      "10\n",
      "30\n"
     ]
    }
   ],
   "source": [
    "my_list = [10, 20, 30, 40, 50]\n",
    "print(my_list[0])  # Output: 10 (first element)\n",
    "print(my_list[2])  # Output: 30 (third element)"
   ]
  },
  {
   "cell_type": "markdown",
   "metadata": {
    "id": "HY3zmCAM47Uq"
   },
   "source": [
    "You can also use negative indexing to access elements from the end of the list."
   ]
  },
  {
   "cell_type": "code",
   "execution_count": null,
   "metadata": {
    "id": "_P9TYulV37A8"
   },
   "outputs": [],
   "source": [
    "print(my_list[-1])  # Output: 50 (last element)\n",
    "print(my_list[-2])  # Output: 40 (second last element)"
   ]
  },
  {
   "cell_type": "markdown",
   "metadata": {
    "id": "vWxRyU8x4-_X"
   },
   "source": [
    "### ***Slicing a List***  \n",
    "You can extract a portion of a list using slicing. The syntax is **list[start:stop:step]**."
   ]
  },
  {
   "cell_type": "code",
   "execution_count": null,
   "metadata": {
    "id": "llmFsGD037Fy"
   },
   "outputs": [],
   "source": [
    "my_list = [1, 2, 3, 4, 5, 6, 7, 8, 9]\n",
    "print(my_list[2:5])    # Output: [3, 4, 5] (elements from index 2 to 4)\n",
    "print(my_list[:4])     # Output: [1, 2, 3, 4] (elements from start to index 3)\n",
    "print(my_list[5:])     # Output: [6, 7, 8, 9] (elements from index 5 to end)\n",
    "print(my_list[::2])    # Output: [1, 3, 5, 7, 9] (every second element)"
   ]
  },
  {
   "cell_type": "markdown",
   "metadata": {
    "id": "BPYYM2UF5pYn"
   },
   "source": [
    "### Modifying a List   \n",
    "Lists are mutable, meaning you can change their elements after creation."
   ]
  },
  {
   "cell_type": "code",
   "execution_count": null,
   "metadata": {
    "id": "srd4Impw37Ia"
   },
   "outputs": [],
   "source": [
    "my_list = [1, 2, 3, 4, 5]\n",
    "my_list[2] = 99  # Change the third element\n",
    "print(my_list)   # Output: [1, 2, 99, 4, 5]"
   ]
  },
  {
   "cell_type": "markdown",
   "metadata": {
    "id": "IjD1YxN65y9N"
   },
   "source": [
    "### Common List Methods\n",
    "Python provides several built-in methods to manipulate lists:"
   ]
  },
  {
   "cell_type": "markdown",
   "metadata": {
    "id": "ehmlXTmm6Fnt"
   },
   "source": [
    "1. **append() :** Adds an element to the end of the list."
   ]
  },
  {
   "cell_type": "code",
   "execution_count": null,
   "metadata": {
    "id": "TD4cGIG_5nBR"
   },
   "outputs": [],
   "source": [
    "my_list.append(6)\n",
    "print(my_list)  # Output: [1, 2, 99, 4, 5, 6]"
   ]
  },
  {
   "cell_type": "markdown",
   "metadata": {
    "id": "h3NTOsSY6PTT"
   },
   "source": [
    "2. **extend() :** Adds multiple elements (from another list) to the end."
   ]
  },
  {
   "cell_type": "code",
   "execution_count": null,
   "metadata": {
    "id": "s7AzRALt5nEU"
   },
   "outputs": [],
   "source": [
    "my_list.extend([7, 8, 9])\n",
    "print(my_list)  # Output: [1, 2, 99, 4, 5, 6, 7, 8, 9]"
   ]
  },
  {
   "cell_type": "markdown",
   "metadata": {
    "id": "CHGPV6Vr6ZAj"
   },
   "source": [
    "3. **insert() :** Inserts an element at a specific index."
   ]
  },
  {
   "cell_type": "code",
   "execution_count": null,
   "metadata": {
    "id": "eS9PYTn95nHC"
   },
   "outputs": [],
   "source": [
    "my_list.insert(2, 100)  # Insert 100 at index 2\n",
    "print(my_list)  # Output: [1, 2, 100, 99, 4, 5, 6, 7, 8, 9]"
   ]
  },
  {
   "cell_type": "markdown",
   "metadata": {
    "id": "u9SIVgUd6fCF"
   },
   "source": [
    "4. **remove() :** Removes the first occurrence of a specific value."
   ]
  },
  {
   "cell_type": "code",
   "execution_count": null,
   "metadata": {
    "id": "HeTAZrVR5nKS"
   },
   "outputs": [],
   "source": [
    "my_list.remove(99)\n",
    "print(my_list)  # Output: [1, 2, 100, 4, 5, 6, 7, 8, 9]"
   ]
  },
  {
   "cell_type": "markdown",
   "metadata": {
    "id": "BZHhNqCp6mJZ"
   },
   "source": [
    "5. **pop() :** Removes and returns the element at a specific index (default is the last element)."
   ]
  },
  {
   "cell_type": "code",
   "execution_count": null,
   "metadata": {
    "id": "v_bWHVOF5nNx"
   },
   "outputs": [],
   "source": [
    "popped_element = my_list.pop(2)  # Remove element at index 2\n",
    "print(popped_element)  # Output: 100\n",
    "print(my_list)  # Output: [1, 2, 4, 5, 6, 7, 8, 9]"
   ]
  },
  {
   "cell_type": "markdown",
   "metadata": {
    "id": "WlXBEAhb6meV"
   },
   "source": [
    "6. **clear() :** Removes all elements from the list."
   ]
  },
  {
   "cell_type": "code",
   "execution_count": null,
   "metadata": {
    "id": "04wAto5K5nQt"
   },
   "outputs": [],
   "source": [
    "my_list.clear()\n",
    "print(my_list)  # Output: []"
   ]
  },
  {
   "cell_type": "markdown",
   "metadata": {
    "id": "qmu6eoMa6m3J"
   },
   "source": [
    "7. **index() :** Returns the index of the first occurrence of a value."
   ]
  },
  {
   "cell_type": "code",
   "execution_count": null,
   "metadata": {
    "id": "8-RoNKr36ne2"
   },
   "outputs": [],
   "source": [
    "my_list = [10, 20, 30, 20, 40]\n",
    "print(my_list.index(20))  # Output: 1"
   ]
  },
  {
   "cell_type": "markdown",
   "metadata": {
    "id": "aZ-__LUk6oI6"
   },
   "source": [
    "8. **count() :** Returns the number of occurrences of a value."
   ]
  },
  {
   "cell_type": "code",
   "execution_count": null,
   "metadata": {
    "id": "tAO4YvHj6nh-"
   },
   "outputs": [],
   "source": [
    "print(my_list.count(20))  # Output: 2"
   ]
  },
  {
   "cell_type": "markdown",
   "metadata": {
    "id": "EFR5zssn6voE"
   },
   "source": [
    "9. **sort() :** Sorts the list in place."
   ]
  },
  {
   "cell_type": "code",
   "execution_count": null,
   "metadata": {
    "id": "q2d76SaU6nkm"
   },
   "outputs": [],
   "source": [
    "my_list.sort()\n",
    "print(my_list)  # Output: [10, 20, 20, 30, 40]"
   ]
  },
  {
   "cell_type": "markdown",
   "metadata": {
    "id": "FapBFH6Y6w5p"
   },
   "source": [
    "10. **reverse() :** Reverses the list in place."
   ]
  },
  {
   "cell_type": "code",
   "execution_count": null,
   "metadata": {
    "id": "1tO7aeki6nnR"
   },
   "outputs": [],
   "source": [
    "my_list.reverse()\n",
    "print(my_list)  # Output: [40, 30, 20, 20, 10]"
   ]
  },
  {
   "cell_type": "markdown",
   "metadata": {
    "id": "Fpu8WK5y7fkm"
   },
   "source": [
    "### List Comprehensions  \n",
    "List comprehensions provide a concise way to create lists."
   ]
  },
  {
   "cell_type": "code",
   "execution_count": null,
   "metadata": {
    "id": "m2IYsXkI6nqK"
   },
   "outputs": [],
   "source": [
    "# Create a list of squares\n",
    "squares = [x**2 for x in range(10)]\n",
    "print(squares)  # Output: [0, 1, 4, 9, 16, 25, 36, 49, 64, 81]"
   ]
  },
  {
   "cell_type": "markdown",
   "metadata": {
    "id": "Lwl-qkEN7oA8"
   },
   "source": [
    "### Nested Lists\n",
    "Lists can contain other lists, creating a nested or multidimensional structure."
   ]
  },
  {
   "cell_type": "code",
   "execution_count": null,
   "metadata": {
    "id": "AJKTYp356ns6"
   },
   "outputs": [],
   "source": [
    "matrix = [\n",
    "    [1, 2, 3],\n",
    "    [4, 5, 6],\n",
    "    [7, 8, 9]\n",
    "]\n",
    "print(matrix[1][2])  # Output: 6 (second row, third column)"
   ]
  },
  {
   "cell_type": "markdown",
   "metadata": {
    "id": "Zdriq4OR7uka"
   },
   "source": [
    "### Copying a List\n",
    "To create a copy of a list, use the **copy()** method or slicing."
   ]
  },
  {
   "cell_type": "code",
   "execution_count": null,
   "metadata": {
    "id": "WmMZcaE55nTg"
   },
   "outputs": [],
   "source": [
    "original = [1, 2, 3]\n",
    "copy1 = original.copy()\n",
    "copy2 = original[:]"
   ]
  },
  {
   "cell_type": "markdown",
   "metadata": {
    "id": "ZqbRVrbi74W4"
   },
   "source": [
    "### Checking if an Element Exists  \n",
    "Use the ***in*** keyword to check if an element is in a list."
   ]
  },
  {
   "cell_type": "code",
   "execution_count": null,
   "metadata": {
    "id": "Qw-2Utj07zvv"
   },
   "outputs": [],
   "source": [
    "my_list = [1, 2, 3, 4, 5]\n",
    "print(3 in my_list)  # Output: True\n",
    "print(10 in my_list)  # Output: False"
   ]
  },
  {
   "cell_type": "markdown",
   "metadata": {
    "id": "VQRIeuhs8Rz_"
   },
   "source": [
    "### Length of a List\n",
    "Use the len() function to get the number of elements in a list."
   ]
  },
  {
   "cell_type": "code",
   "execution_count": null,
   "metadata": {
    "id": "iPa9zQQyF6Oh"
   },
   "outputs": [],
   "source": [
    "from google.colab import drive\n",
    "drive.mount('/content/drive')"
   ]
  },
  {
   "cell_type": "code",
   "execution_count": null,
   "metadata": {
    "id": "jQnXqMzf7zzM"
   },
   "outputs": [],
   "source": [
    "print(len(my_list))  # Output: 5"
   ]
  },
  {
   "cell_type": "markdown",
   "metadata": {
    "id": "2uB5657EYk3L"
   },
   "source": [
    "## Lists Vs Arrays"
   ]
  },
  {
   "cell_type": "markdown",
   "metadata": {
    "id": "Tp4nhRw1Ysur"
   },
   "source": [
    "### Lists:\n",
    "\n",
    "* **Built-in:** Lists are a fundamental data structure in Python, readily available for use.\n",
    "* **Heterogeneous:** Lists can store elements of different data types (e.g., integers, strings, booleans, even other lists).\n",
    "* **Dynamic:** Lists can grow or shrink in size as needed. You can easily add or remove elements.  \n",
    "* **Versatile:** Lists offer a wide range of built-in methods for common operations (e.g., appending, inserting, removing, sorting)."
   ]
  },
  {
   "cell_type": "markdown",
   "metadata": {
    "id": "mtYn4k1BZ3db"
   },
   "source": [
    "### Arrays:\n",
    "\n",
    "* **Module-based:** Arrays in Python typically require importing a module like **array** or **Numpy**\n",
    "* **Homogeneous:** Arrays store elements of the same data types. THis makes them more memory-efficient for certain types of data.\n",
    "* **Fixed-size (with array module):** Arrays created using the **array** module have a fixed size. You'd need to create a new **array** if you want to change the size. NumPy arrays offer more flexibilty in this regard.\n",
    "* **Specialized:** Arrays are often used when dealing with numerical data and can be more efficient for certain mathematical operations."
   ]
  },
  {
   "cell_type": "markdown",
   "metadata": {
    "id": "23i0l_A8cL3q"
   },
   "source": [
    "![list_vs_array.png](data:image/png;base64,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)"
   ]
  },
  {
   "cell_type": "code",
   "execution_count": null,
   "metadata": {
    "colab": {
     "base_uri": "https://localhost:8080/"
    },
    "executionInfo": {
     "elapsed": 312,
     "status": "ok",
     "timestamp": 1738329476224,
     "user": {
      "displayName": "Nb Baloch",
      "userId": "06738841947808833806"
     },
     "user_tz": -240
    },
    "id": "0DXMEwTgYpIK",
    "outputId": "b2545ff1-1b2b-4b86-9fed-8b3ef79d568c"
   },
   "outputs": [
    {
     "name": "stdout",
     "output_type": "stream",
     "text": [
      "['pasta', 'eggs', 'spam', 'oil', 'rice']\n"
     ]
    }
   ],
   "source": [
    "# Pracitce\n",
    "\n",
    "# Beginner\n",
    "\n",
    "# Grocery List:\n",
    "\n",
    "# create a list called grocery_list containing at least you'd typically find in grocery store\n",
    "grocery_list = ['pasta', 'eggs', 'spam', 'oil', 'rice']\n",
    "# print the entire list\n",
    "print(grocery_list)"
   ]
  },
  {
   "cell_type": "code",
   "execution_count": null,
   "metadata": {
    "colab": {
     "base_uri": "https://localhost:8080/"
    },
    "executionInfo": {
     "elapsed": 549,
     "status": "ok",
     "timestamp": 1738329479179,
     "user": {
      "displayName": "Nb Baloch",
      "userId": "06738841947808833806"
     },
     "user_tz": -240
    },
    "id": "2JJSNBHZca5I",
    "outputId": "204a1975-4666-4e03-bd29-2c843744464d"
   },
   "outputs": [
    {
     "name": "stdout",
     "output_type": "stream",
     "text": [
      "pasta\n"
     ]
    }
   ],
   "source": [
    "# print the first item on the list\n",
    "print(grocery_list[0])"
   ]
  },
  {
   "cell_type": "code",
   "execution_count": null,
   "metadata": {
    "colab": {
     "base_uri": "https://localhost:8080/"
    },
    "executionInfo": {
     "elapsed": 340,
     "status": "ok",
     "timestamp": 1738329481474,
     "user": {
      "displayName": "Nb Baloch",
      "userId": "06738841947808833806"
     },
     "user_tz": -240
    },
    "id": "H_wR6y3PYGCi",
    "outputId": "b8e952d9-2573-4588-a692-6bae18c61cdd"
   },
   "outputs": [
    {
     "name": "stdout",
     "output_type": "stream",
     "text": [
      "rice\n"
     ]
    }
   ],
   "source": [
    "# print the last item on the list (wihtout using a specific index lik [-1], but by using len()).\n",
    "print(grocery_list[len(grocery_list)-1])"
   ]
  },
  {
   "cell_type": "code",
   "execution_count": null,
   "metadata": {
    "colab": {
     "base_uri": "https://localhost:8080/"
    },
    "executionInfo": {
     "elapsed": 2,
     "status": "ok",
     "timestamp": 1738329483806,
     "user": {
      "displayName": "Nb Baloch",
      "userId": "06738841947808833806"
     },
     "user_tz": -240
    },
    "id": "_3N60OTlYF6g",
    "outputId": "d3a1b8a3-bd7f-44e9-b679-762d74ecc31a"
   },
   "outputs": [
    {
     "name": "stdout",
     "output_type": "stream",
     "text": [
      "['pasta', 'eggs', 'spam', 'oil', 'rice', 'milk']\n"
     ]
    }
   ],
   "source": [
    "# add \"milk\" to the end of the list.\n",
    "grocery_list.append('milk')\n",
    "print(grocery_list)"
   ]
  },
  {
   "cell_type": "code",
   "execution_count": null,
   "metadata": {
    "colab": {
     "base_uri": "https://localhost:8080/"
    },
    "executionInfo": {
     "elapsed": 325,
     "status": "ok",
     "timestamp": 1738329486377,
     "user": {
      "displayName": "Nb Baloch",
      "userId": "06738841947808833806"
     },
     "user_tz": -240
    },
    "id": "nKl6TmrgYF3e",
    "outputId": "75761f4e-1c01-4386-8a80-227adc880569"
   },
   "outputs": [
    {
     "name": "stdout",
     "output_type": "stream",
     "text": [
      "['bread', 'pasta', 'eggs', 'spam', 'oil', 'rice', 'milk']\n"
     ]
    }
   ],
   "source": [
    "# insert \"bread\" ar the beginning of the list\n",
    "grocery_list.insert(0, \"bread\")\n",
    "# print the updated list\n",
    "print(grocery_list)"
   ]
  },
  {
   "cell_type": "code",
   "execution_count": null,
   "metadata": {
    "colab": {
     "base_uri": "https://localhost:8080/"
    },
    "executionInfo": {
     "elapsed": 313,
     "status": "ok",
     "timestamp": 1738329552506,
     "user": {
      "displayName": "Nb Baloch",
      "userId": "06738841947808833806"
     },
     "user_tz": -240
    },
    "id": "jGUiNKCxYF0Q",
    "outputId": "6361f0a2-e7b7-4129-9fd9-d2dba0523d6f"
   },
   "outputs": [
    {
     "name": "stdout",
     "output_type": "stream",
     "text": [
      "[1, 2, 3, 4, 5, 6, 7, 8, 9, 10]\n"
     ]
    }
   ],
   "source": [
    "# Number Maniipulation:\n",
    "\n",
    "# create a list called numbers containing the integers fro, 1 to 10.\n",
    "numbers = [1, 2, 3, 4, 5, 6, 7, 8, 9, 10]\n",
    "# print the list\n",
    "print(numbers)"
   ]
  },
  {
   "cell_type": "code",
   "execution_count": null,
   "metadata": {
    "colab": {
     "base_uri": "https://localhost:8080/"
    },
    "executionInfo": {
     "elapsed": 272,
     "status": "ok",
     "timestamp": 1738329645488,
     "user": {
      "displayName": "Nb Baloch",
      "userId": "06738841947808833806"
     },
     "user_tz": -240
    },
    "id": "8UwQ1GWGYFxf",
    "outputId": "3d24440b-c5b5-401d-b998-c2685e877096"
   },
   "outputs": [
    {
     "name": "stdout",
     "output_type": "stream",
     "text": [
      "55\n",
      "55\n"
     ]
    }
   ],
   "source": [
    "# calculate and print sum of all the numbers in the list.\n",
    "numebrs_sum = sum(numbers)\n",
    "print(numebrs_sum)\n",
    "# or\n",
    "print(sum(numbers))"
   ]
  },
  {
   "cell_type": "code",
   "execution_count": null,
   "metadata": {
    "colab": {
     "base_uri": "https://localhost:8080/"
    },
    "executionInfo": {
     "elapsed": 291,
     "status": "ok",
     "timestamp": 1738329795469,
     "user": {
      "displayName": "Nb Baloch",
      "userId": "06738841947808833806"
     },
     "user_tz": -240
    },
    "id": "czD1nMz8YFtb",
    "outputId": "83c3261e-d76e-4e77-84a4-6acfdfa4d2c0"
   },
   "outputs": [
    {
     "name": "stdout",
     "output_type": "stream",
     "text": [
      "5.5\n",
      "5.5\n"
     ]
    }
   ],
   "source": [
    "# calculate and print the average of the numbers.\n",
    "average = sum(numbers) / len(numbers)\n",
    "print(average)\n",
    "#\n",
    "print(sum(numbers) / len(numbers))"
   ]
  },
  {
   "cell_type": "code",
   "execution_count": null,
   "metadata": {
    "colab": {
     "base_uri": "https://localhost:8080/"
    },
    "executionInfo": {
     "elapsed": 4,
     "status": "ok",
     "timestamp": 1738329738587,
     "user": {
      "displayName": "Nb Baloch",
      "userId": "06738841947808833806"
     },
     "user_tz": -240
    },
    "id": "MKm2T7yvhCBh",
    "outputId": "8f050f7f-7206-4695-bc83-41cda4f0b4ed"
   },
   "outputs": [
    {
     "name": "stdout",
     "output_type": "stream",
     "text": [
      "10\n"
     ]
    }
   ],
   "source": [
    "# print the largest number in the list.\n",
    "print(max(numbers))"
   ]
  },
  {
   "cell_type": "code",
   "execution_count": null,
   "metadata": {
    "colab": {
     "base_uri": "https://localhost:8080/"
    },
    "executionInfo": {
     "elapsed": 312,
     "status": "ok",
     "timestamp": 1738329767841,
     "user": {
      "displayName": "Nb Baloch",
      "userId": "06738841947808833806"
     },
     "user_tz": -240
    },
    "id": "yvA98t0qhB9g",
    "outputId": "0540c44d-0b9a-4f50-8983-88d2013f2a10"
   },
   "outputs": [
    {
     "name": "stdout",
     "output_type": "stream",
     "text": [
      "1\n"
     ]
    }
   ],
   "source": [
    "# print the smallest number in the list\n",
    "print(min(numbers))"
   ]
  },
  {
   "cell_type": "code",
   "execution_count": null,
   "metadata": {
    "id": "2yExG5eRhB6q"
   },
   "outputs": [],
   "source": [
    "# Intemediate\n",
    "\n",
    "# Name List:\n",
    "\n",
    "# create a list called names with at least five names.\n",
    "names = [\"John\", \"Mary\", \"Bob\", \"Alice\", \"Tom\"]"
   ]
  },
  {
   "cell_type": "code",
   "execution_count": null,
   "metadata": {
    "colab": {
     "base_uri": "https://localhost:8080/"
    },
    "executionInfo": {
     "elapsed": 334,
     "status": "ok",
     "timestamp": 1738330023397,
     "user": {
      "displayName": "Nb Baloch",
      "userId": "06738841947808833806"
     },
     "user_tz": -240
    },
    "id": "e7RSRyuEhB4C",
    "outputId": "298f069a-1e83-4481-a859-165bc172db79"
   },
   "outputs": [
    {
     "name": "stdout",
     "output_type": "stream",
     "text": [
      "['Alice', 'Bob', 'John', 'Mary', 'Tom']\n"
     ]
    }
   ],
   "source": [
    "# sort the list alphabetically.\n",
    "sorted_names = sorted(names)\n",
    "# print the sorted list\n",
    "print(sorted_names)"
   ]
  },
  {
   "cell_type": "code",
   "execution_count": null,
   "metadata": {
    "colab": {
     "base_uri": "https://localhost:8080/"
    },
    "executionInfo": {
     "elapsed": 317,
     "status": "ok",
     "timestamp": 1738330040717,
     "user": {
      "displayName": "Nb Baloch",
      "userId": "06738841947808833806"
     },
     "user_tz": -240
    },
    "id": "THn0_MithB1a",
    "outputId": "84339f50-7403-44de-a8c9-0403ef8f8bbf"
   },
   "outputs": [
    {
     "name": "stdout",
     "output_type": "stream",
     "text": [
      "['Tom', 'Alice', 'Bob', 'Mary', 'John']\n"
     ]
    }
   ],
   "source": [
    "# reverse the order of the list.\n",
    "reversed_names = list(reversed(names))\n",
    "# print the reversed list\n",
    "print(reversed_names)"
   ]
  },
  {
   "cell_type": "code",
   "execution_count": null,
   "metadata": {
    "colab": {
     "base_uri": "https://localhost:8080/"
    },
    "executionInfo": {
     "elapsed": 4386,
     "status": "ok",
     "timestamp": 1738330321193,
     "user": {
      "displayName": "Nb Baloch",
      "userId": "06738841947808833806"
     },
     "user_tz": -240
    },
    "id": "p_-QR-QahByr",
    "outputId": "ebfda01c-cc36-441a-ad63-adc3c4e8656d"
   },
   "outputs": [
    {
     "name": "stdout",
     "output_type": "stream",
     "text": [
      "Enter a name: Mary\n",
      "Yes, Mary is there in Names list\n"
     ]
    }
   ],
   "source": [
    "# Ask the user to enter a name. Check if that name is already in the lsit and print appropiate message.\n",
    "name = input(\"Enter a name: \")\n",
    "if name in names:\n",
    "  print(f\"Yes, {name} is there in Names list\")\n",
    "else:\n",
    "  print(f\"Sorry, There is no such name '{name} inside Names list'\")"
   ]
  },
  {
   "cell_type": "code",
   "execution_count": null,
   "metadata": {
    "id": "8fdCTrZzhBv7"
   },
   "outputs": [],
   "source": [
    "# Filtering\n",
    "\n",
    "# Create a list called mixed_list containing a mix of intergers and strings\n",
    "mixed_list = [1, \"one\", 2, \"two\", 3, \"three\"]"
   ]
  },
  {
   "cell_type": "code",
   "execution_count": null,
   "metadata": {
    "colab": {
     "base_uri": "https://localhost:8080/"
    },
    "executionInfo": {
     "elapsed": 313,
     "status": "ok",
     "timestamp": 1738330537381,
     "user": {
      "displayName": "Nb Baloch",
      "userId": "06738841947808833806"
     },
     "user_tz": -240
    },
    "id": "muJNG4tbhBtF",
    "outputId": "27694bc7-0749-4591-80b4-fd0db66db95d"
   },
   "outputs": [
    {
     "name": "stdout",
     "output_type": "stream",
     "text": [
      "[1, 2, 3]\n"
     ]
    }
   ],
   "source": [
    "# create a new list called numbers_only containg only the integers from mixed_list.\n",
    "# (Hint: Use a loop and isintance() to check the type of each elements)\n",
    "numbers_only = [item for item in mixed_list if isinstance(item, int)]"
   ]
  },
  {
   "cell_type": "code",
   "execution_count": null,
   "metadata": {
    "id": "r2fGzWKMhBqd"
   },
   "outputs": [],
   "source": [
    "# Create another new list called strings_only containing only the strings from mixed_list.\n",
    "strings_only = [item for item in mixed_list if isinstance(item, str)]"
   ]
  },
  {
   "cell_type": "code",
   "execution_count": null,
   "metadata": {
    "colab": {
     "base_uri": "https://localhost:8080/"
    },
    "executionInfo": {
     "elapsed": 287,
     "status": "ok",
     "timestamp": 1738330676327,
     "user": {
      "displayName": "Nb Baloch",
      "userId": "06738841947808833806"
     },
     "user_tz": -240
    },
    "id": "9yUg2yCNhBn4",
    "outputId": "9086e259-48d4-4618-eb6d-686d91d15db4"
   },
   "outputs": [
    {
     "name": "stdout",
     "output_type": "stream",
     "text": [
      "[1, 2, 3]\n",
      "['one', 'two', 'three']\n"
     ]
    }
   ],
   "source": [
    "# print both numbers_only and strings_only\n",
    "print(numbers_only)\n",
    "print(strings_only)"
   ]
  },
  {
   "cell_type": "code",
   "execution_count": null,
   "metadata": {
    "id": "CPtY6VuzhBlf"
   },
   "outputs": [],
   "source": [
    "# Advanced\n",
    "\n",
    "# List comprehension:\n",
    "\n",
    "# use list comprehension to create a list called squares containing the squares of the numbers from 1 to 20\n",
    "squares = [x**2 for x in range(1, 21)]"
   ]
  },
  {
   "cell_type": "code",
   "execution_count": null,
   "metadata": {
    "id": "SbAKfrTqhBjC"
   },
   "outputs": [],
   "source": [
    "# Use list comprehension to create a list called even_numbers containing only the even numbers from 1 to 50.\n",
    "even_numbers = [x for x in range(1, 51) if x % 2 == 0]"
   ]
  },
  {
   "cell_type": "code",
   "execution_count": null,
   "metadata": {
    "colab": {
     "base_uri": "https://localhost:8080/"
    },
    "executionInfo": {
     "elapsed": 506,
     "status": "ok",
     "timestamp": 1738331643568,
     "user": {
      "displayName": "Nb Baloch",
      "userId": "06738841947808833806"
     },
     "user_tz": -240
    },
    "id": "h53KL1uJhBgU",
    "outputId": "ef2aecf2-aca0-4d5d-b35e-7d169e8d8f64"
   },
   "outputs": [
    {
     "name": "stdout",
     "output_type": "stream",
     "text": [
      "['e', 'o', 'o', 'i', 'i', 'a', 'e', 'i']\n"
     ]
    }
   ],
   "source": [
    "# Use list comprehension to create a list called vowels containing only the vowels from the string \"Hello World! This is a test string.\".\n",
    "strings = \"Hello World! This is a test string.\"\n",
    "vowels = [char for char in strings if char.lower() in \"aeiou\"]\n",
    "print(vowels)"
   ]
  },
  {
   "cell_type": "code",
   "execution_count": null,
   "metadata": {
    "colab": {
     "base_uri": "https://localhost:8080/"
    },
    "executionInfo": {
     "elapsed": 504,
     "status": "ok",
     "timestamp": 1738332257643,
     "user": {
      "displayName": "Nb Baloch",
      "userId": "06738841947808833806"
     },
     "user_tz": -240
    },
    "id": "ybSpO4N9hBdz",
    "outputId": "e652ed2b-b93f-40c0-dd6b-1a6d813db873"
   },
   "outputs": [
    {
     "name": "stdout",
     "output_type": "stream",
     "text": [
      "[[1, 2, 3], [4, 5, 6], [7, 8, 9]]\n"
     ]
    }
   ],
   "source": [
    "# Nested Lists:\n",
    "\n",
    "# create a nested list called matrix representing a 3x3 matrix (a list of lists).\n",
    "# For example: matrix = [[1, 2, 3], [4, 5, 6], [7, 8, 9]]\n",
    "matrix = [[1, 2, 3], [4, 5, 6], [7, 8, 9]]\n",
    "# print the entire matrix\n",
    "print(matrix)\n"
   ]
  },
  {
   "cell_type": "code",
   "execution_count": null,
   "metadata": {
    "colab": {
     "base_uri": "https://localhost:8080/"
    },
    "executionInfo": {
     "elapsed": 277,
     "status": "ok",
     "timestamp": 1738331970453,
     "user": {
      "displayName": "Nb Baloch",
      "userId": "06738841947808833806"
     },
     "user_tz": -240
    },
    "id": "rHj9XfIphBbH",
    "outputId": "545ef6ab-c451-461d-8ac0-709fc9b047f3"
   },
   "outputs": [
    {
     "name": "stdout",
     "output_type": "stream",
     "text": [
      "6\n"
     ]
    }
   ],
   "source": [
    "# print the element at the second row and third column (remember indexing starts at 0).\n",
    "print(matrix[1][2])"
   ]
  },
  {
   "cell_type": "code",
   "execution_count": null,
   "metadata": {
    "colab": {
     "base_uri": "https://localhost:8080/"
    },
    "executionInfo": {
     "elapsed": 309,
     "status": "ok",
     "timestamp": 1738332100467,
     "user": {
      "displayName": "Nb Baloch",
      "userId": "06738841947808833806"
     },
     "user_tz": -240
    },
    "id": "QD_m4Rv7hBYh",
    "outputId": "3d9b240e-2c23-492b-af39-4565b8f4c7e2"
   },
   "outputs": [
    {
     "name": "stdout",
     "output_type": "stream",
     "text": [
      "1\n",
      "2\n",
      "3\n",
      "4\n",
      "5\n",
      "6\n",
      "7\n",
      "8\n",
      "9\n"
     ]
    }
   ],
   "source": [
    "# Use nested loops to iterate through the matrix and print each elements individually.\n",
    "for row in matrix:\n",
    "  for element in row:\n",
    "    print(element)"
   ]
  },
  {
   "cell_type": "code",
   "execution_count": null,
   "metadata": {
    "colab": {
     "base_uri": "https://localhost:8080/"
    },
    "executionInfo": {
     "elapsed": 321,
     "status": "ok",
     "timestamp": 1738332645942,
     "user": {
      "displayName": "Nb Baloch",
      "userId": "06738841947808833806"
     },
     "user_tz": -240
    },
    "id": "h9pc8GlghBWP",
    "outputId": "bb3d1c80-456f-42a7-8cae-4b3f7be397f4"
   },
   "outputs": [
    {
     "name": "stdout",
     "output_type": "stream",
     "text": [
      "[1, 2, 3, 4, 5]\n",
      "[1, 2, 3, 4, 5]\n"
     ]
    }
   ],
   "source": [
    "# Bonus chlge\n",
    "\n",
    "# Duplicate removal:\n",
    "\n",
    "# create a list that contains duplicate values (e.g., [1, 2, 2, 3, 4, 4, 5])\n",
    "duplicate_list = [1, 2, 2, 3, 4, 4, 5]\n",
    "\n",
    "# write code to remove the duplicates and create a new list with only unique values.\n",
    "# (Try to do this without converting to sets)\n",
    "unique_list = []\n",
    "for item in duplicate_list:\n",
    "  if item not in unique_list:\n",
    "    unique_list.append(item)\n",
    "print(unique_list)\n",
    "\n",
    "# or\n",
    "\n",
    "# converting it using set\n",
    "unique_list = list(set(duplicate_list))\n",
    "print(unique_list)"
   ]
  },
  {
   "cell_type": "markdown",
   "metadata": {
    "id": "C7Hg7m8AzdnR"
   },
   "source": [
    "### [Zip Function ](https://www.geeksforgeeks.org/zip-in-python/)   \n",
    "\n",
    "The zip() function in Python combines multiple iterables such as lists, tuples, strings, dict etc, into a single iterator of tuples. Each tuple contains elements from the input iterables that are at the same position.  "
   ]
  },
  {
   "cell_type": "markdown",
   "metadata": {
    "id": "cKGJ8LT5EH6b"
   },
   "source": [
    "How **zip()** Works:\n",
    "\n",
    "*zip(*iterables) :** takes any number of iterable arguments and returns an iterator.  This iterator yields tuples. The ith tuple contains the ith element from each of the input iterables."
   ]
  },
  {
   "cell_type": "code",
   "execution_count": null,
   "metadata": {
    "colab": {
     "base_uri": "https://localhost:8080/"
    },
    "executionInfo": {
     "elapsed": 294,
     "status": "ok",
     "timestamp": 1738339319725,
     "user": {
      "displayName": "Nb Baloch",
      "userId": "06738841947808833806"
     },
     "user_tz": -240
    },
    "id": "yTR5lkZfhBTf",
    "outputId": "fc6f82fc-3eb6-4351-ddac-2cca376e5a5d"
   },
   "outputs": [
    {
     "name": "stdout",
     "output_type": "stream",
     "text": [
      "[('Alice', 25), ('Bob', 30), ('Charlie', 28)]\n"
     ]
    }
   ],
   "source": [
    "# Example1: Zipping Two Lists:\n",
    "\n",
    "names = [\"Alice\", \"Bob\", \"Charlie\"]\n",
    "ages = [25, 30, 28]\n",
    "\n",
    "zipped = zip(names, ages)\n",
    "\n",
    "print(list(zipped))  # Output: [('Alice', 25), ('Bob', 30), ('Charlie', 28)]\n",
    "\n",
    "# Note: zip() returns an iterator.  We use list() to convert it to a list for printing.\n",
    "1# If you don't convert it, you can iterate over it only once."
   ]
  },
  {
   "cell_type": "code",
   "execution_count": null,
   "metadata": {
    "colab": {
     "base_uri": "https://localhost:8080/"
    },
    "executionInfo": {
     "elapsed": 293,
     "status": "ok",
     "timestamp": 1738339393064,
     "user": {
      "displayName": "Nb Baloch",
      "userId": "06738841947808833806"
     },
     "user_tz": -240
    },
    "id": "d79JTPKyiDrg",
    "outputId": "95a162af-3751-444f-98c2-e1a453df378a"
   },
   "outputs": [
    {
     "name": "stdout",
     "output_type": "stream",
     "text": [
      "['Alice', 'Bob', 'Charlie']\n",
      "[25, 30, 28]\n"
     ]
    }
   ],
   "source": [
    "# Example 2: Unzipping:\n",
    "# You can \"unzip\" using zip(*zipped_object) (notice the asterisk).\n",
    "\n",
    "names = [\"Alice\", \"Bob\", \"Charlie\"]\n",
    "ages = [25, 30, 28]\n",
    "\n",
    "zipped = zip(names, ages)\n",
    "name_age_pairs = list(zipped)  # Important to convert to a list if you want to unzip later\n",
    "\n",
    "unzipped_names, unzipped_ages = zip(*name_age_pairs) # Unzip\n",
    "\n",
    "print(list(unzipped_names))  # Output: ['Alice', 'Bob', 'Charlie']\n",
    "print(list(unzipped_ages))  # Output: [25, 30, 28]"
   ]
  },
  {
   "cell_type": "code",
   "execution_count": null,
   "metadata": {
    "colab": {
     "base_uri": "https://localhost:8080/"
    },
    "executionInfo": {
     "elapsed": 279,
     "status": "ok",
     "timestamp": 1738339491217,
     "user": {
      "displayName": "Nb Baloch",
      "userId": "06738841947808833806"
     },
     "user_tz": -240
    },
    "id": "GI-o1-uuiGmj",
    "outputId": "0d01991c-db53-4cfd-cca9-0b36f197779a"
   },
   "outputs": [
    {
     "name": "stdout",
     "output_type": "stream",
     "text": [
      "[(1, 'a'), (2, 'b'), (3, 'c')]\n"
     ]
    }
   ],
   "source": [
    "# Example 3: Different Length Iterables:\n",
    "# zip() stops when the shortest iterable is exhausted.\n",
    "\n",
    "list1 = [1, 2, 3, 4]\n",
    "list2 = ['a', 'b', 'c']\n",
    "\n",
    "zipped = zip(list1, list2)\n",
    "print(list(zipped))  # Output: [(1, 'a'), (2, 'b'), (3, 'c')]  (4 is dropped)"
   ]
  },
  {
   "cell_type": "code",
   "execution_count": null,
   "metadata": {
    "colab": {
     "base_uri": "https://localhost:8080/"
    },
    "executionInfo": {
     "elapsed": 417,
     "status": "ok",
     "timestamp": 1738360424822,
     "user": {
      "displayName": "Nb Baloch",
      "userId": "06738841947808833806"
     },
     "user_tz": -240
    },
    "id": "ZjWzMGDwiGpH",
    "outputId": "1b09bf11-6108-4d14-cdb8-98cfac678c17"
   },
   "outputs": [
    {
     "name": "stdout",
     "output_type": "stream",
     "text": [
      "Alice is 25 years old.\n",
      "Bob is 30 years old.\n",
      "Charlie is 28 years old.\n"
     ]
    }
   ],
   "source": [
    "# Exmaple 4: Iterating Directly:\n",
    "# You can iterate directly over the zip object without converting it to a list. This is more memory-efficient, especially for very large iterables.\n",
    "\n",
    "names = [\"Alice\", \"Bob\", \"Charlie\"]\n",
    "ages = [25, 30, 28]\n",
    "\n",
    "for name, age in zip(names, ages):\n",
    "    print(f\"{name} is {age} years old.\")"
   ]
  },
  {
   "cell_type": "markdown",
   "metadata": {
    "id": "7wIxC-RrW5FI"
   },
   "source": [
    "### Common Uses of zip():\n",
    "* **Creating dicionaries:**"
   ]
  },
  {
   "cell_type": "code",
   "execution_count": null,
   "metadata": {
    "colab": {
     "base_uri": "https://localhost:8080/"
    },
    "executionInfo": {
     "elapsed": 341,
     "status": "ok",
     "timestamp": 1738360677752,
     "user": {
      "displayName": "Nb Baloch",
      "userId": "06738841947808833806"
     },
     "user_tz": -240
    },
    "id": "KWuDKs2piGrt",
    "outputId": "c82d47a7-aa44-4b75-f9b1-b8b41e1baa95"
   },
   "outputs": [
    {
     "name": "stdout",
     "output_type": "stream",
     "text": [
      "{'a': 1, 'b': 2, 'c': 3}\n"
     ]
    }
   ],
   "source": [
    "keys = [\"a\", \"b\", \"c\"]\n",
    "values = [1, 2, 3]\n",
    "\n",
    "my_dict = dict(zip(keys, values))\n",
    "print(my_dict)"
   ]
  },
  {
   "cell_type": "markdown",
   "metadata": {
    "id": "JpUVaRt7X5dK"
   },
   "source": [
    "* **Processing data from multipple sources:** When you have related data in different lists or tuples, *zip()* makes it easy to process them in parallel.\n",
    "* **Transposing matrices (represented as lists of lists):** Through NumPy is better suited for matrix operations, **zip(*matrix)** can transpose a simple list of lists."
   ]
  },
  {
   "cell_type": "markdown",
   "metadata": {
    "id": "lKZf4VBUY4Qy"
   },
   "source": [
    "### Key Points:"
   ]
  },
  {
   "cell_type": "markdown",
   "metadata": {
    "id": "VLWRoL7AY-qN"
   },
   "source": [
    "* *zip( )* returns an iterator, not a list. You can convert it to a list using *list(zip(...))* if you need to access the elements multiple times or if you need a concrete list.\n",
    "* *zip( )* stops at the shortest input iterable.\n",
    "* It's often more memory-efficient to iterate directly over the *zip()* object rather than converting it to a list, especially for large datasets.\n",
    "\n",
    "\n",
    "*zip( )* is a very versatile function. so understanding it well will difinitely improve your Python coding skills"
   ]
  },
  {
   "cell_type": "code",
   "execution_count": null,
   "metadata": {
    "id": "uHsOCXZliGuV"
   },
   "outputs": [],
   "source": [
    "# Practice\n",
    "\n",
    "# Beginner:\n",
    "\n",
    "# Combining Lists:\n",
    "# create two lists: names = [\"Alice\", \"Bob\", \"Charlie\"] and scores = [85, 92, 78]\n",
    "names = [\"Alice\", \"Bob\", \"Charlie\"]\n",
    "scores = [85, 92, 78]\n"
   ]
  },
  {
   "cell_type": "code",
   "execution_count": null,
   "metadata": {
    "colab": {
     "base_uri": "https://localhost:8080/"
    },
    "executionInfo": {
     "elapsed": 492,
     "status": "ok",
     "timestamp": 1738362270753,
     "user": {
      "displayName": "Nb Baloch",
      "userId": "06738841947808833806"
     },
     "user_tz": -240
    },
    "id": "Nx-JGA1IiGw4",
    "outputId": "c7c3d6ba-06dd-412b-94e5-92ec43c0982b"
   },
   "outputs": [
    {
     "name": "stdout",
     "output_type": "stream",
     "text": [
      "[('Alice', 85), ('Bob', 92), ('Charlie', 78)]\n"
     ]
    }
   ],
   "source": [
    "# use zip() to combine these lists into a list of tuples,\n",
    "# where each tuple contains a name and their corresponding score.\n",
    "zipped = zip(names, scores)\n",
    "\n",
    "# print the resulting list of tuples.\n",
    "print(list(zipped))\n"
   ]
  },
  {
   "cell_type": "code",
   "execution_count": null,
   "metadata": {
    "colab": {
     "base_uri": "https://localhost:8080/"
    },
    "executionInfo": {
     "elapsed": 590,
     "status": "ok",
     "timestamp": 1738362420053,
     "user": {
      "displayName": "Nb Baloch",
      "userId": "06738841947808833806"
     },
     "user_tz": -240
    },
    "id": "gOMfPZUSiHac",
    "outputId": "8867ae61-d260-4e80-baa9-9ee7fda4eadf"
   },
   "outputs": [
    {
     "name": "stdout",
     "output_type": "stream",
     "text": [
      "Alice: 85\n",
      "Bob: 92\n",
      "Charlie: 78\n"
     ]
    }
   ],
   "source": [
    "# iterate though the zipped object directly (without converting to a list)\n",
    "# and print each name and score in the format \"Name: Score\".\n",
    "for name, score in zip(names, scores):\n",
    "  print(f\"{name}: {score}\")"
   ]
  },
  {
   "cell_type": "code",
   "execution_count": null,
   "metadata": {
    "id": "D3ZnAV-6Xyur"
   },
   "outputs": [],
   "source": [
    "# creating a dictionary:\n",
    "# create two lists: key = [\"a\", \"b\", \"c\"] and values = [1, 2, 3].\n",
    "keys = [\"a\", \"b\", \"c\"]\n",
    "values = [1, 2, 3]"
   ]
  },
  {
   "cell_type": "code",
   "execution_count": null,
   "metadata": {
    "colab": {
     "base_uri": "https://localhost:8080/"
    },
    "executionInfo": {
     "elapsed": 306,
     "status": "ok",
     "timestamp": 1738362744972,
     "user": {
      "displayName": "Nb Baloch",
      "userId": "06738841947808833806"
     },
     "user_tz": -240
    },
    "id": "FzovAaAjX0sE",
    "outputId": "9ede674a-3ea0-4de8-db99-42e1ef6d216b"
   },
   "outputs": [
    {
     "name": "stdout",
     "output_type": "stream",
     "text": [
      "{'a': 1, 'b': 2, 'c': 3}\n"
     ]
    }
   ],
   "source": [
    "# use zip() to create a dictionary where the keys list provides the keys and\n",
    "# the values list provides the values.\n",
    "my_dict = dict(zip(keys, values))\n",
    "\n",
    "# print the resulting dictionary.\n",
    "print(my_dict)"
   ]
  },
  {
   "cell_type": "code",
   "execution_count": null,
   "metadata": {
    "colab": {
     "base_uri": "https://localhost:8080/"
    },
    "executionInfo": {
     "elapsed": 347,
     "status": "ok",
     "timestamp": 1738362993566,
     "user": {
      "displayName": "Nb Baloch",
      "userId": "06738841947808833806"
     },
     "user_tz": -240
    },
    "id": "gWrgGqViX0vQ",
    "outputId": "7f905e5e-db48-46dc-ccb4-0b6ca2326e22"
   },
   "outputs": [
    {
     "name": "stdout",
     "output_type": "stream",
     "text": [
      "apple: $1.2\n",
      "banana: $0.75\n",
      "cherry: $1.5\n"
     ]
    }
   ],
   "source": [
    "# Intermediate:\n",
    "\n",
    "# Parallel Iteration:\n",
    "# you have two listsL items = [\"apple\", \"banana\", \"cherry\"]\n",
    "# and prices = [1.20, 0.75, 1.50]\n",
    "items = [\"apple\", \"banana\", \"cherry\"]\n",
    "prices = [1.20, 0.75, 1.50]\n",
    "\n",
    "# use zip() to iterate through both lists simultaneously and\n",
    "# print each item and its price in the format \"Item: Price\"\n",
    "for item, price in zip(items, prices):\n",
    "  print(f\"{item}: ${price}\")"
   ]
  },
  {
   "cell_type": "code",
   "execution_count": null,
   "metadata": {
    "colab": {
     "base_uri": "https://localhost:8080/"
    },
    "executionInfo": {
     "elapsed": 330,
     "status": "ok",
     "timestamp": 1738363350562,
     "user": {
      "displayName": "Nb Baloch",
      "userId": "06738841947808833806"
     },
     "user_tz": -240
    },
    "id": "guI_1BeNX0x-",
    "outputId": "e259d4c1-ccc1-4480-cfb6-218491188dbf"
   },
   "outputs": [
    {
     "name": "stdout",
     "output_type": "stream",
     "text": [
      "The person with the highest score is Bob with a score of ('Bob', 92).\n"
     ]
    }
   ],
   "source": [
    "# find the highet score:\n",
    "# you have a list of names and list of scores\n",
    "names = [\"Alice\", \"Bob\", \"Charlie\"]\n",
    "scores = [85, 92, 78]\n",
    "\n",
    "# use zip() to find the name of the person with the highest score.\n",
    "highest_score = max(scores)\n",
    "highest_score_index = scores.index(highest_score)\n",
    "highest_scorer = names[highest_score_index]\n",
    "\n",
    "# or\n",
    "\n",
    "highest_score = max(zip(names, scores), key=lambda x: x[1])\n",
    "highest_scorer = highest_score[0]\n",
    "\n",
    "# print the name of the person with the highest score.\n",
    "print(f\"The person with the highest score is {highest_scorer} with a score of {highest_score}.\")\n"
   ]
  },
  {
   "cell_type": "code",
   "execution_count": null,
   "metadata": {
    "id": "euY6SCqGXyxZ"
   },
   "outputs": [],
   "source": [
    "# Advance:\n",
    "\n",
    "# Transposing a matrix (List of Lists):\n",
    "# represent a matrix as a list of lists:\n",
    "matrix = [\n",
    "    [1, 2, 3],\n",
    "    [4, 5, 6],\n",
    "    [7, 8, 9]\n",
    "]"
   ]
  },
  {
   "cell_type": "code",
   "execution_count": null,
   "metadata": {
    "colab": {
     "base_uri": "https://localhost:8080/"
    },
    "executionInfo": {
     "elapsed": 312,
     "status": "ok",
     "timestamp": 1738375250970,
     "user": {
      "displayName": "Nb Baloch",
      "userId": "06738841947808833806"
     },
     "user_tz": -240
    },
    "id": "qN9FBp6eXz58",
    "outputId": "7fbc982a-fe79-4578-dde9-2b881ccc62bb"
   },
   "outputs": [
    {
     "name": "stdout",
     "output_type": "stream",
     "text": [
      "[(1, 4, 7), (2, 5, 8), (3, 6, 9)]\n",
      "(1, 4, 7)\n",
      "(2, 5, 8)\n",
      "(3, 6, 9)\n"
     ]
    }
   ],
   "source": [
    "# use zip() and the * operator to transpose the matrix (swap rows and columns). The result should be:\n",
    "# [[1, 4, 7],\n",
    "#  [2, 5, 8],\n",
    "#  [3, 5, 9]]\n",
    "transposed_matrix = list(zip(*matrix))\n",
    "print(transposed_matrix)\n",
    "\n",
    "\n",
    "# or\n",
    "transposed_matrix = list(zip(*matrix))\n",
    "\n",
    "# print the transposed matrix\n",
    "for row in transposed_matrix:\n",
    "  print(row)"
   ]
  },
  {
   "cell_type": "code",
   "execution_count": null,
   "metadata": {
    "colab": {
     "base_uri": "https://localhost:8080/"
    },
    "executionInfo": {
     "elapsed": 306,
     "status": "ok",
     "timestamp": 1738375557751,
     "user": {
      "displayName": "Nb Baloch",
      "userId": "06738841947808833806"
     },
     "user_tz": -240
    },
    "id": "Lm8skZkwXz8i",
    "outputId": "a6c73d0c-c8c8-49d7-8cce-fc042bdb2e51"
   },
   "outputs": [
    {
     "name": "stdout",
     "output_type": "stream",
     "text": [
      "[('Alice', 25), ('Bob', 30), ('Charlie', 28)]\n"
     ]
    }
   ],
   "source": [
    "# zipping and unzipping\n",
    "\n",
    "# create two lists (e.g., names and ages)\n",
    "names = [\"Alice\", \"Bob\", \"Charlie\"]\n",
    "ages = [25, 30, 28]\n",
    "\n",
    "# zip the lists\n",
    "zipped = zip(names, ages)\n",
    "\n",
    "# print the zipped result\n",
    "print(list(zipped))  # Output: [('Alice', 25), ('Bob', 30), ('Charlie', 28)]"
   ]
  },
  {
   "cell_type": "code",
   "execution_count": null,
   "metadata": {
    "colab": {
     "base_uri": "https://localhost:8080/"
    },
    "executionInfo": {
     "elapsed": 305,
     "status": "ok",
     "timestamp": 1738375680595,
     "user": {
      "displayName": "Nb Baloch",
      "userId": "06738841947808833806"
     },
     "user_tz": -240
    },
    "id": "lFVK6f2cXz_R",
    "outputId": "5614ceae-d379-4997-80e7-07e247ca83d2"
   },
   "outputs": [
    {
     "name": "stdout",
     "output_type": "stream",
     "text": [
      "['Alice', 'Bob', 'Charlie']\n",
      "[25, 30, 28]\n"
     ]
    }
   ],
   "source": [
    "zipped = zip(names, ages)\n",
    "# unzip the zipped object back into two seperate lists\n",
    "unzipped_names, unzipped_ages = zip(*zipped)\n",
    "\n",
    "# print the unzipped lists to verify they are the same as the orginal.\n",
    "print(list(unzipped_names))  # Output: ['Alice', 'Bob', 'Charlie']\n",
    "print(list(unzipped_ages))  # Output: [25, 30, 28]"
   ]
  },
  {
   "cell_type": "code",
   "execution_count": null,
   "metadata": {
    "colab": {
     "base_uri": "https://localhost:8080/"
    },
    "executionInfo": {
     "elapsed": 301,
     "status": "ok",
     "timestamp": 1738376346421,
     "user": {
      "displayName": "Nb Baloch",
      "userId": "06738841947808833806"
     },
     "user_tz": -240
    },
    "id": "MjPES-fvX0Bt",
    "outputId": "dad672ed-711e-44f5-b0bb-a95359019cd9"
   },
   "outputs": [
    {
     "name": "stdout",
     "output_type": "stream",
     "text": [
      "zip(): [(1, 'a'), (2, 'b'), (3, 'c')]\n"
     ]
    }
   ],
   "source": [
    "# bonus chlge\n",
    "\n",
    "from itertools import zip_longest\n",
    "\n",
    "# Working with Different Length Lists\n",
    "# Create two lists of different lengths.\n",
    "list1 = [1, 2, 3, 4, 5]\n",
    "list2 = ['a', 'b', 'c']\n",
    "\n",
    "# Using zip() - stops at the shortest list\n",
    "zipped_short = zip(list1, list2)\n",
    "print(\"zip():\", list(zipped_short))  # Output: [(1, 'a'), (2, 'b'), (3, 'c')]"
   ]
  },
  {
   "cell_type": "code",
   "execution_count": null,
   "metadata": {
    "colab": {
     "base_uri": "https://localhost:8080/"
    },
    "executionInfo": {
     "elapsed": 321,
     "status": "ok",
     "timestamp": 1738376353687,
     "user": {
      "displayName": "Nb Baloch",
      "userId": "06738841947808833806"
     },
     "user_tz": -240
    },
    "id": "cHBeIWj6SwNm",
    "outputId": "3cbaa9f0-3abd-4217-ad06-9caa481128b9"
   },
   "outputs": [
    {
     "name": "stdout",
     "output_type": "stream",
     "text": [
      "zip_longest(): [(1, 'a'), (2, 'b'), (3, 'c'), (4, None), (5, None)]\n"
     ]
    }
   ],
   "source": [
    "# Using zip_longest() - fills missing values with None by default\n",
    "zipped_long = zip_longest(list1, list2)\n",
    "print(\"zip_longest():\", list(zipped_long))  # Output: [(1, 'a'), (2, 'b'), (3, 'c'), (4, None), (5, None)]\n"
   ]
  },
  {
   "cell_type": "code",
   "execution_count": null,
   "metadata": {
    "colab": {
     "base_uri": "https://localhost:8080/"
    },
    "executionInfo": {
     "elapsed": 294,
     "status": "ok",
     "timestamp": 1738376412549,
     "user": {
      "displayName": "Nb Baloch",
      "userId": "06738841947808833806"
     },
     "user_tz": -240
    },
    "id": "ZeJd-4GATnCl",
    "outputId": "56ee7dc5-9dbc-43fe-b49c-f6b017e48d6a"
   },
   "outputs": [
    {
     "name": "stdout",
     "output_type": "stream",
     "text": [
      "zip_longest() with fillvalue: [(1, 'a'), (2, 'b'), (3, 'c'), (4, 'N/A'), (5, 'N/A')]\n"
     ]
    }
   ],
   "source": [
    "# Using zip_longest() with a fillvalue (single value)\n",
    "zipped_fill = zip_longest(list1, list2, fillvalue=\"N/A\")\n",
    "print(\"zip_longest() with fillvalue:\", list(zipped_fill))  # Output: [(1, 'a'), (2, 'b'), (3, 'c'), (4, 'N/A'), (5, 'N/A')]"
   ]
  },
  {
   "cell_type": "code",
   "execution_count": null,
   "metadata": {
    "colab": {
     "base_uri": "https://localhost:8080/"
    },
    "executionInfo": {
     "elapsed": 336,
     "status": "ok",
     "timestamp": 1738376432558,
     "user": {
      "displayName": "Nb Baloch",
      "userId": "06738841947808833806"
     },
     "user_tz": -240
    },
    "id": "U6GuEX_STm_w",
    "outputId": "bd6f4c58-c324-4556-ff06-6cbd1cc51a95"
   },
   "outputs": [
    {
     "name": "stdout",
     "output_type": "stream",
     "text": [
      "zip_longest() with tuple of fillvalues: [(1, 'a'), (2, 'b'), (3, 'c'), (4, ('-', '*')), (5, ('-', '*'))]\n"
     ]
    }
   ],
   "source": [
    "# Using zip_longest() with a TUPLE of fillvalues\n",
    "zipped_fill_tuple = zip_longest(list1, list2, fillvalue=(\"-\", \"*\"))\n",
    "print(\"zip_longest() with tuple of fillvalues:\", list(zipped_fill_tuple))  # Output: [(1, 'a'), (2, 'b'), (3, 'c'), (4, '-'), (5, '*')]"
   ]
  },
  {
   "cell_type": "code",
   "execution_count": null,
   "metadata": {
    "colab": {
     "base_uri": "https://localhost:8080/"
    },
    "executionInfo": {
     "elapsed": 312,
     "status": "ok",
     "timestamp": 1738376454887,
     "user": {
      "displayName": "Nb Baloch",
      "userId": "06738841947808833806"
     },
     "user_tz": -240
    },
    "id": "oCyuCSlhX0Eg",
    "outputId": "d010f4e2-1180-4272-8ecf-bace5c26c393"
   },
   "outputs": [
    {
     "name": "stdout",
     "output_type": "stream",
     "text": [
      "Item 1: 1, Item 2: a\n",
      "Item 1: 2, Item 2: b\n",
      "Item 1: 3, Item 2: c\n",
      "Item 1: 4, Item 2: N/A\n",
      "Item 1: 5, Item 2: N/A\n"
     ]
    }
   ],
   "source": [
    "# Example of how to use the filled values:\n",
    "for item1, item2 in zip_longest(list1, list2, fillvalue=\"N/A\"):\n",
    "    print(f\"Item 1: {item1}, Item 2: {item2}\")"
   ]
  },
  {
   "cell_type": "code",
   "execution_count": null,
   "metadata": {
    "colab": {
     "base_uri": "https://localhost:8080/"
    },
    "executionInfo": {
     "elapsed": 279,
     "status": "ok",
     "timestamp": 1738376465258,
     "user": {
      "displayName": "Nb Baloch",
      "userId": "06738841947808833806"
     },
     "user_tz": -240
    },
    "id": "osBHGQ40Xy0U",
    "outputId": "6d57e964-8fe9-4997-ed97-3f8f6b5e231e"
   },
   "outputs": [
    {
     "name": "stdout",
     "output_type": "stream",
     "text": [
      "zip_longest() with tuple of fillvalues: [(10, 'x'), (20, 'y'), (('-', '*'), 'z'), (('-', '*'), 'w')]\n"
     ]
    }
   ],
   "source": [
    "# Another example with different fill values (using a tuple):\n",
    "list3 = [10, 20]\n",
    "list4 = ['x', 'y', 'z', 'w']\n",
    "zipped_fill2 = zip_longest(list3, list4, fillvalue=(\"-\", \"*\"))  # Tuple for different fills\n",
    "print(\"zip_longest() with tuple of fillvalues:\", list(zipped_fill2))  # Output: [(10, 'x'), (20, 'y'), ('-', 'z'), ('-', 'w')]\n"
   ]
  },
  {
   "cell_type": "code",
   "execution_count": null,
   "metadata": {
    "colab": {
     "base_uri": "https://localhost:8080/"
    },
    "executionInfo": {
     "elapsed": 336,
     "status": "ok",
     "timestamp": 1738376510084,
     "user": {
      "displayName": "Nb Baloch",
      "userId": "06738841947808833806"
     },
     "user_tz": -240
    },
    "id": "-2q4KN42S__l",
    "outputId": "dba7a9f6-cbcf-429a-c68e-eff8896c8f17"
   },
   "outputs": [
    {
     "name": "stdout",
     "output_type": "stream",
     "text": [
      "zip_longest() with tuple of fillvalues and more than two lists: [(100, 'p', 'A'), (200, 'q', 'B'), (300, ('-', '*', '@'), 'C'), (('-', '*', '@'), ('-', '*', '@'), 'D'), (('-', '*', '@'), ('-', '*', '@'), 'E')]\n"
     ]
    }
   ],
   "source": [
    "# Example with more than two lists and a tuple of fill values.\n",
    "list5 = [100, 200, 300]\n",
    "list6 = ['p','q']\n",
    "list7 = ['A','B','C','D','E']\n",
    "\n",
    "zipped_fill3 = zip_longest(list5, list6, list7, fillvalue=(\"-\",\"*\",\"@\"))\n",
    "print(\"zip_longest() with tuple of fillvalues and more than two lists:\", list(zipped_fill3)) \\\n",
    "# [(100, 'p', 'A'), (200, 'q', 'B'), (300, '-', 'C'), ('-', '*', 'D'), ('-', '*', 'E')]"
   ]
  },
  {
   "cell_type": "code",
   "execution_count": null,
   "metadata": {
    "colab": {
     "base_uri": "https://localhost:8080/"
    },
    "executionInfo": {
     "elapsed": 321,
     "status": "ok",
     "timestamp": 1738424281204,
     "user": {
      "displayName": "Nb Baloch",
      "userId": "06738841947808833806"
     },
     "user_tz": -240
    },
    "id": "mlcMhuulXzJH",
    "outputId": "be2a8204-782a-4258-e5ac-fb91e2424231"
   },
   "outputs": [
    {
     "name": "stdout",
     "output_type": "stream",
     "text": [
      "[(1, 4), (2, 5), (3, 6)]\n",
      "[]\n"
     ]
    }
   ],
   "source": [
    "l = [1, 2, 3]\n",
    "m = [4, 5, 6]\n",
    "z = zip(l, m)\n",
    "print(list(z))\n",
    "# print(zip(l, m))\n",
    "# list(zip(l, m))\n",
    "unz = zip(*z)\n",
    "print(list(unz))"
   ]
  },
  {
   "cell_type": "code",
   "execution_count": null,
   "metadata": {
    "colab": {
     "base_uri": "https://localhost:8080/"
    },
    "executionInfo": {
     "elapsed": 293,
     "status": "ok",
     "timestamp": 1738453044174,
     "user": {
      "displayName": "Nb Baloch",
      "userId": "06738841947808833806"
     },
     "user_tz": -240
    },
    "id": "Yg6ztBUfoGWf",
    "outputId": "d7515715-d604-4252-f048-cff47e6c58f0"
   },
   "outputs": [
    {
     "data": {
      "text/plain": [
       "[4, 10, 18]"
      ]
     },
     "execution_count": 4,
     "metadata": {},
     "output_type": "execute_result"
    }
   ],
   "source": [
    "l1 = [1, 2, 3]\n",
    "l2 = [4, 5, 6]\n",
    "\n",
    "[i*j for i,j in zip(l1, l2)]"
   ]
  },
  {
   "cell_type": "code",
   "execution_count": null,
   "metadata": {
    "colab": {
     "base_uri": "https://localhost:8080/"
    },
    "executionInfo": {
     "elapsed": 290,
     "status": "ok",
     "timestamp": 1738453704922,
     "user": {
      "displayName": "Nb Baloch",
      "userId": "06738841947808833806"
     },
     "user_tz": -240
    },
    "id": "bnSGca-DoGZm",
    "outputId": "f595e8d8-6b36-4005-a4b3-23908953ea21"
   },
   "outputs": [
    {
     "name": "stdout",
     "output_type": "stream",
     "text": [
      "[(1, 4, 9), (2, 5, 10), (3, 6, 11), (4, 8, 12)]\n"
     ]
    },
    {
     "data": {
      "text/plain": [
       "[14, 17, 20, 24]"
      ]
     },
     "execution_count": 21,
     "metadata": {},
     "output_type": "execute_result"
    }
   ],
   "source": [
    "L1 = [1, 2, 3, 4]\n",
    "L2 = [4, 5, 6, 8]\n",
    "L3 = [9,10,11,12]\n",
    "\n",
    "print(list(zip(L1, L2, L3)))\n",
    "# or\n",
    "[(l1, l2, l3) for l1, l2, l3 in zip(L1, L2, L3)]\n",
    "\n",
    "# using element-wise or parrallel addtion using zip\n",
    "[l1+l2+l3 for l1, l2, l3 in zip(L1, L2, L3)]"
   ]
  },
  {
   "cell_type": "code",
   "execution_count": null,
   "metadata": {
    "colab": {
     "base_uri": "https://localhost:8080/"
    },
    "executionInfo": {
     "elapsed": 309,
     "status": "ok",
     "timestamp": 1738454919392,
     "user": {
      "displayName": "Nb Baloch",
      "userId": "06738841947808833806"
     },
     "user_tz": -240
    },
    "id": "nnTklb2CoGhx",
    "outputId": "dfd4bd39-ad67-458f-948f-becc67141473"
   },
   "outputs": [
    {
     "name": "stdout",
     "output_type": "stream",
     "text": [
      "[(1, 4, 9), (2, 5, 10), (3, 6, 11)]\n"
     ]
    },
    {
     "data": {
      "text/plain": [
       "[14, 17, 20]"
      ]
     },
     "execution_count": 51,
     "metadata": {},
     "output_type": "execute_result"
    }
   ],
   "source": [
    "# Let's explore a few ways to handle lists of unequal lengths\n",
    "L1 = [1, 2, 3, 4]\n",
    "L2 = [4, 5, 6]\n",
    "L3 = [9,10,11,12, 13]\n",
    "\n",
    "print(list(zip(L1, L2, L3)))    # [(1, 4, 9), (2, 5, 10), (3, 6, 11)]\n",
    "\n",
    "# if perform element-wise addtion\n",
    "[l1+l2+l3 for l1, l2, l3 in zip(L1, L2, L3)]  # [14, 17, 20]\n",
    "\n",
    "# As we can see the length of all three are different and are unequal,\n",
    "# So it's ignoring the other numbers\n"
   ]
  },
  {
   "cell_type": "code",
   "execution_count": null,
   "metadata": {
    "colab": {
     "base_uri": "https://localhost:8080/"
    },
    "executionInfo": {
     "elapsed": 308,
     "status": "ok",
     "timestamp": 1738454922069,
     "user": {
      "displayName": "Nb Baloch",
      "userId": "06738841947808833806"
     },
     "user_tz": -240
    },
    "id": "bWPp-8CYoGku",
    "outputId": "4acf2eec-70d1-4669-b003-d8cd1e0a46ea"
   },
   "outputs": [
    {
     "name": "stdout",
     "output_type": "stream",
     "text": [
      "[14, 17, 20, 16, 13]\n"
     ]
    }
   ],
   "source": [
    "from itertools import zip_longest  # remember to import zip_longest\n",
    "# Let's see to handle it\n",
    "# The itertools.zip_longest function is the most straightforward way to deal with unequal lists.\n",
    "# It pads the shorter lists with a fill value (by default, None).\n",
    "# Example:\n",
    "result = [sum(filter(None, values)) for values in zip_longest(L1, L2, L3)]\n",
    "print(result)"
   ]
  },
  {
   "cell_type": "code",
   "execution_count": null,
   "metadata": {
    "colab": {
     "base_uri": "https://localhost:8080/"
    },
    "executionInfo": {
     "elapsed": 5,
     "status": "ok",
     "timestamp": 1738454998537,
     "user": {
      "displayName": "Nb Baloch",
      "userId": "06738841947808833806"
     },
     "user_tz": -240
    },
    "id": "SU_5stjpoGn2",
    "outputId": "9fea198e-754b-4be6-8b21-f49a7079cdd6"
   },
   "outputs": [
    {
     "name": "stdout",
     "output_type": "stream",
     "text": [
      "[14, 17, 20, 16, 13]\n"
     ]
    }
   ],
   "source": [
    "# or with a custom fill value:\n",
    "result = [sum(values) for values in zip_longest(L1, L2, L3, fillvalue=0)]\n",
    "print(result)"
   ]
  },
  {
   "cell_type": "code",
   "execution_count": null,
   "metadata": {
    "colab": {
     "base_uri": "https://localhost:8080/"
    },
    "executionInfo": {
     "elapsed": 331,
     "status": "ok",
     "timestamp": 1738455443217,
     "user": {
      "displayName": "Nb Baloch",
      "userId": "06738841947808833806"
     },
     "user_tz": -240
    },
    "id": "-0dTpdsJoGq1",
    "outputId": "edb55ae7-7ec2-4c98-e697-f646f6ca6cf6"
   },
   "outputs": [
    {
     "name": "stdout",
     "output_type": "stream",
     "text": [
      "[12, 15, 12, 10]\n"
     ]
    }
   ],
   "source": [
    "# Looping with Indexing (More):\n",
    "\n",
    "L1 = [1, 2, 3]\n",
    "L2 = [4, 5]\n",
    "L3 = [7, 8, 9, 10]\n",
    "\n",
    "max_len = max(len(L1), len(L2), len(L3))   #Find the lenght of the longest list\n",
    "result = []\n",
    "\n",
    "for i in range(max_len):\n",
    "  sum_val = 0\n",
    "  if i < len(L1):\n",
    "    sum_val += L1[i]\n",
    "  if i < len(L2):\n",
    "    sum_val += L2[i]\n",
    "  if i < len(L3):\n",
    "    sum_val += L3[i]\n",
    "  result.append(sum_val)\n",
    "\n",
    "print(result)"
   ]
  },
  {
   "cell_type": "code",
   "execution_count": null,
   "metadata": {
    "colab": {
     "base_uri": "https://localhost:8080/"
    },
    "executionInfo": {
     "elapsed": 317,
     "status": "ok",
     "timestamp": 1738455786443,
     "user": {
      "displayName": "Nb Baloch",
      "userId": "06738841947808833806"
     },
     "user_tz": -240
    },
    "id": "yddCTTBCoG0-",
    "outputId": "c16e5bcd-0eb9-469a-a710-f4bfac1117e7"
   },
   "outputs": [
    {
     "name": "stdout",
     "output_type": "stream",
     "text": [
      "[12 15 12 10]\n"
     ]
    }
   ],
   "source": [
    "# NumPy (For Number Computation)\n",
    "\n",
    "import numpy as np\n",
    "\n",
    "L1 = [1, 2, 3]\n",
    "L2 = [4, 5]\n",
    "L3 = [7, 8, 9, 10]\n",
    "\n",
    "# Pad with zeros to make them equal length\n",
    "L1_padded = np.pad(L1, (0, max(0, len(L3) - len(L1))), 'constant')\n",
    "L2_padded = np.pad(L2, (0, max(0, len(L3) - len(L2))), 'constant')\n",
    "L3_padded = np.array(L3)  # convert to numpy array\n",
    "\n",
    "result = L1_padded + L2_padded + L3_padded\n",
    "print(result)"
   ]
  },
  {
   "cell_type": "code",
   "execution_count": null,
   "metadata": {
    "id": "egrIVrc4oG4M"
   },
   "outputs": [],
   "source": [
    "# Which method you choose depends on your specific needs:\n",
    "# itertools.zip_longest: Simplest for padding with a constant value.\n",
    "# Looping with indexing: Most flexible, allows for custom handling of missing values.\n",
    "# NumPy: Best for numerical data when performance is critical."
   ]
  },
  {
   "cell_type": "code",
   "execution_count": null,
   "metadata": {
    "colab": {
     "base_uri": "https://localhost:8080/"
    },
    "executionInfo": {
     "elapsed": 330,
     "status": "ok",
     "timestamp": 1738456384430,
     "user": {
      "displayName": "Nb Baloch",
      "userId": "06738841947808833806"
     },
     "user_tz": -240
    },
    "id": "zO6w5ML1oG-g",
    "outputId": "c33cc136-67a8-40aa-e65f-52dac5ac1631"
   },
   "outputs": [
    {
     "name": "stdout",
     "output_type": "stream",
     "text": [
      "Audi has 21 items available\n",
      "BMW has 12 items available\n",
      "Volvo has 24 items available\n",
      "Mitsubishi has 20 items available\n",
      "[('Audi', 21), ('BMW', 12), ('Volvo', 24), ('Mitsubishi', 20)]\n",
      "['Audi has 21 items', 'BMW has 12 items', 'Volvo has 24 items', 'Mitsubishi has 20 items']\n"
     ]
    }
   ],
   "source": [
    "# Update Number of items available\n",
    "car_name = [\"Audi\", \"BMW\", \"Volvo\", \"Mitsubishi\"]\n",
    "no_of_items = [21, 12, 24, 20]\n",
    "\n",
    "for i, j in zip(car_name, no_of_items):\n",
    "  print(f\"{i} has {j} items available\")\n",
    "\n",
    "# or\n",
    "\n",
    "x = [(i,j) for i, j in zip(car_name, no_of_items)]\n",
    "print(x)\n",
    "\n",
    "x = [f\"{i} has {j} items\" for i, j in zip(car_name, no_of_items)]\n",
    "print(x)"
   ]
  },
  {
   "cell_type": "markdown",
   "metadata": {
    "id": "iEFfUvfxKZMp"
   },
   "source": [
    "\n",
    "\n",
    "---\n",
    "\n"
   ]
  },
  {
   "cell_type": "markdown",
   "metadata": {
    "id": "Gxw6kQkUMD9C"
   },
   "source": [
    "## [Tuples](https://www.w3schools.com/python/python_tuples.asp)  \n",
    "\n",
    "In Python, a tuple is an immutable sequence data type that can store a collection of items. Tuples are similar to lists, but the key difference is that tuples cannot be modified once they are created (i.e., they are immutable), whereas lists are mutable.\n",
    "\n"
   ]
  },
  {
   "cell_type": "markdown",
   "metadata": {
    "id": "vonOgA5hMQR3"
   },
   "source": [
    "### Key Characteristics of Tuples:\n",
    "* Immutable : Once a tuple is created, you cannot modify its elements (you can't add, remove, or change elements).\n",
    "* Ordered : The elements in a tuple have a defined order, and this order will not change.\n",
    "* Allow Duplicates : Tuples can contain duplicate values since each element has an index position.\n",
    "* Heterogeneous : A tuple can hold elements of different types (e.g., integers, strings, floats, etc.)."
   ]
  },
  {
   "cell_type": "markdown",
   "metadata": {
    "id": "2_Ss-PjHMw5j"
   },
   "source": [
    "### Creating a Tuple\n",
    "Tuples are created by placing all the items inside parentheses (), separated by commas **,** . Parentheses are optional, but it's good practice to include them for clarity."
   ]
  },
  {
   "cell_type": "code",
   "execution_count": null,
   "metadata": {
    "id": "xZ3v8yCsMwwD"
   },
   "outputs": [],
   "source": [
    "# Creating tuples\n",
    "empty_tuple = ()  # An empty tuple\n",
    "single_element_tuple = (1,)  # Single-element tuple (note the trailing comma)\n",
    "mixed_tuple = (1, \"hello\", 3.14)  # Tuple with mixed data types\n",
    "numbers_tuple = (1, 2, 3, 4, 5)  # Tuple of numbers"
   ]
  },
  {
   "cell_type": "markdown",
   "metadata": {
    "id": "Uc5XOf2_NFmZ"
   },
   "source": [
    "### Accessing Elements in a Tuple\n",
    "You can access tuple elements using their index, just like lists. Indexing starts at 0."
   ]
  },
  {
   "cell_type": "code",
   "execution_count": null,
   "metadata": {
    "id": "pMxSFBy2MwMn"
   },
   "outputs": [],
   "source": [
    "my_tuple = (10, 20, 30, 40, 50)\n",
    "\n",
    "# Accessing elements\n",
    "print(my_tuple[0])  # Output: 10\n",
    "print(my_tuple[2])  # Output: 30\n",
    "\n",
    "# Negative indexing\n",
    "print(my_tuple[-1])  # Output: 50 (last element)"
   ]
  },
  {
   "cell_type": "markdown",
   "metadata": {
    "id": "dnE06taHNQR9"
   },
   "source": [
    "### Slicing Tuples\n",
    "You can slice tuples to get a subset of elements."
   ]
  },
  {
   "cell_type": "code",
   "execution_count": null,
   "metadata": {
    "id": "Lu1zzjSCNOTH"
   },
   "outputs": [],
   "source": [
    "my_tuple = (10, 20, 30, 40, 50)\n",
    "\n",
    "# Slicing\n",
    "print(my_tuple[1:4])  # Output: (20, 30, 40)\n",
    "print(my_tuple[:3])   # Output: (10, 20, 30)\n",
    "print(my_tuple[2:])   # Output: (30, 40, 50)"
   ]
  },
  {
   "cell_type": "markdown",
   "metadata": {
    "id": "WCqABBZcNgVd"
   },
   "source": [
    "### Tuple Packing and Unpacking  \n",
    "Python allows you to pack values into a tuple without explicitly using parentheses, and you can unpack tuples into variables.\n",
    "\n"
   ]
  },
  {
   "cell_type": "code",
   "execution_count": null,
   "metadata": {
    "id": "NX6ibkRBNOWU"
   },
   "outputs": [],
   "source": [
    "# Tuple packing\n",
    "packed_tuple = 1, 2, 3  # Equivalent to (1, 2, 3)\n",
    "\n",
    "# Tuple unpacking\n",
    "a, b, c = packed_tuple\n",
    "print(a)  # Output: 1\n",
    "print(b)  # Output: 2\n",
    "print(c)  # Output: 3"
   ]
  },
  {
   "cell_type": "markdown",
   "metadata": {
    "id": "Y2lig9nCNysl"
   },
   "source": [
    "### Immutable Nature of Tuples  \n",
    "Since tuples are immutable, attempting to modify a tuple will result in an error."
   ]
  },
  {
   "cell_type": "code",
   "execution_count": null,
   "metadata": {
    "id": "bhATzC1BN1P3"
   },
   "outputs": [],
   "source": [
    "my_tuple = (1, 2, 3)\n",
    "my_tuple[0] = 10  # TypeError: 'tuple' object does not support item assignment"
   ]
  },
  {
   "cell_type": "markdown",
   "metadata": {
    "id": "9s1c6L6-N5Q5"
   },
   "source": [
    "However, if a tuple contains mutable objects (like lists), those objects can still be modified."
   ]
  },
  {
   "cell_type": "code",
   "execution_count": null,
   "metadata": {
    "id": "XHhyZWN0NOZt"
   },
   "outputs": [],
   "source": [
    "nested_tuple = (1, [2, 3], 4)\n",
    "nested_tuple[1][0] = 99  # Modifying the list inside the tuple\n",
    "print(nested_tuple)  # Output: (1, [99, 3], 4)"
   ]
  },
  {
   "cell_type": "markdown",
   "metadata": {
    "id": "v8vOl7GPOxY_"
   },
   "source": [
    "### Common Tuple Methods\n",
    "\n",
    "Tuples come with a few built-in methods:\n",
    "\n",
    "* **count(x)** : Returns the number of times **x** appears in the tuple."
   ]
  },
  {
   "cell_type": "code",
   "execution_count": null,
   "metadata": {
    "id": "n4Ry3sRaOxMz"
   },
   "outputs": [],
   "source": [
    "my_tuple = (1, 2, 2, 3, 2)\n",
    "print(my_tuple.count(2))  # Output: 3"
   ]
  },
  {
   "cell_type": "markdown",
   "metadata": {
    "id": "Q1LW_0qsPNpX"
   },
   "source": [
    "* **index(x)** : Returns the first index of the value **x**."
   ]
  },
  {
   "cell_type": "code",
   "execution_count": null,
   "metadata": {
    "id": "ezHtyAp-NOfY"
   },
   "outputs": [],
   "source": [
    "my_tuple = (10, 20, 30, 40)\n",
    "print(my_tuple.index(30))  # Output: 2"
   ]
  },
  {
   "cell_type": "markdown",
   "metadata": {
    "id": "-cL25kzHPdLH"
   },
   "source": [
    "### Use Cases for Tuples\n",
    "1. **Data Integrity** : Since tuples are immutable, they are useful when you want to ensure that the data doesn't change.\n",
    "2.**Multiple Return Values** : Functions often return multiple values as tuples."
   ]
  },
  {
   "cell_type": "code",
   "execution_count": null,
   "metadata": {
    "id": "lGqs2gB9NOi3"
   },
   "outputs": [],
   "source": [
    "def get_coordinates():\n",
    "    return (10, 20)\n",
    "\n",
    "x, y = get_coordinates()\n",
    "print(x, y)  # Output: 10 20"
   ]
  },
  {
   "cell_type": "markdown",
   "metadata": {
    "id": "0BcVzU6kP5cL"
   },
   "source": [
    "3. **Dictionary Keys** : Tuples can be used as keys in dictionaries because they are immutable, unlike lists."
   ]
  },
  {
   "cell_type": "code",
   "execution_count": null,
   "metadata": {
    "id": "7OsYHN90XzRC"
   },
   "outputs": [],
   "source": [
    "my_dict = {(1, 2): \"value\"}\n",
    "print(my_dict[(1, 2)])  # Output: value"
   ]
  },
  {
   "cell_type": "markdown",
   "metadata": {
    "id": "L5KDzHNJQHFT"
   },
   "source": [
    "### Converting Between Lists and Tuples\n",
    "You can easily convert between lists and tuples using the list() and tuple() functions."
   ]
  },
  {
   "cell_type": "code",
   "execution_count": null,
   "metadata": {
    "id": "xSqTPzCCP9YP"
   },
   "outputs": [],
   "source": [
    "# Convert list to tuple\n",
    "my_list = [1, 2, 3]\n",
    "my_tuple = tuple(my_list)\n",
    "print(my_tuple)  # Output: (1, 2, 3)\n",
    "\n",
    "# Convert tuple to list\n",
    "my_tuple = (4, 5, 6)\n",
    "my_list = list(my_tuple)\n",
    "print(my_list)  # Output: [4, 5, 6]"
   ]
  },
  {
   "cell_type": "code",
   "execution_count": null,
   "metadata": {
    "colab": {
     "base_uri": "https://localhost:8080/"
    },
    "executionInfo": {
     "elapsed": 339,
     "status": "ok",
     "timestamp": 1738505097937,
     "user": {
      "displayName": "Nb Baloch",
      "userId": "06738841947808833806"
     },
     "user_tz": -240
    },
    "id": "I4eQmMEj-jx5",
    "outputId": "d8f85f95-c037-445b-c5ad-8ce4c189d9c0"
   },
   "outputs": [
    {
     "name": "stdout",
     "output_type": "stream",
     "text": [
      "(1, 3, 4, 10)\n"
     ]
    }
   ],
   "source": [
    "# Type Casting\n",
    "\n",
    "a_tuple = (1, 3, 4)\n",
    "a_tuple.append(10)   # will cause an AttributeError because tuple has no attribute 'append'\n",
    "\n",
    "# but\n",
    "\n",
    "temp = list(a_tuple) # converting to list and asigning it to 'temp'\n",
    "temp.append(10)    # add 10\n",
    "a_tuple = tuple(temp)  # now changed 'temp' to a tuple, assigned it 'a_tuple'\n",
    "print(a_tuple)"
   ]
  },
  {
   "cell_type": "markdown",
   "metadata": {
    "id": "BYw3Je_1QaEW"
   },
   "source": [
    "### Summary  \n",
    "* **Tuples** are immutable sequences in Python.\n",
    "* They are ordered and allow duplicate elements.\n",
    "* You can access elements via indexing and slicing.\n",
    "* Tuples are useful when you need to store data that shouldn't be changed.\n",
    "* Common tuple methods include **count()** and **index()**."
   ]
  },
  {
   "cell_type": "markdown",
   "metadata": {
    "id": "z7L06kPo_G7n"
   },
   "source": [
    "## Tuple Operations\n",
    "While tuples are immutable (meaning you can't change them directly), you can still perform various operations that create new tuples or work with the existing tuple's data."
   ]
  },
  {
   "cell_type": "markdown",
   "metadata": {
    "id": "_FlrhjkQCIxx"
   },
   "source": [
    "here's the most common tuple operations:\n",
    "![tuple_operations.png](data:image/png;base64,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)"
   ]
  },
  {
   "cell_type": "code",
   "execution_count": null,
   "metadata": {
    "colab": {
     "base_uri": "https://localhost:8080/"
    },
    "executionInfo": {
     "elapsed": 353,
     "status": "ok",
     "timestamp": 1738506347405,
     "user": {
      "displayName": "Nb Baloch",
      "userId": "06738841947808833806"
     },
     "user_tz": -240
    },
    "id": "aIWDWZ08_GDf",
    "outputId": "b209523e-231f-44bd-c956-12cdba683dd4"
   },
   "outputs": [
    {
     "name": "stdout",
     "output_type": "stream",
     "text": [
      "(1, 2, 3, 4, 5, 6)\n"
     ]
    }
   ],
   "source": [
    "# let's apply these\n",
    "\n",
    "# Concatenation:\n",
    "# You can concatenate (join) two or more tuples using the + operator.\n",
    "# This creates a new tuple containing all the elements of the original tuples.\n",
    "tuple1 = (1, 2, 3)\n",
    "tuple2 = (4, 5, 6)\n",
    "combined_tuple = tuple1 + tuple2\n",
    "print(combined_tuple)  # Output: (1, 2, 3, 4, 5, 6)"
   ]
  },
  {
   "cell_type": "code",
   "execution_count": null,
   "metadata": {
    "colab": {
     "base_uri": "https://localhost:8080/"
    },
    "executionInfo": {
     "elapsed": 418,
     "status": "ok",
     "timestamp": 1738506350831,
     "user": {
      "displayName": "Nb Baloch",
      "userId": "06738841947808833806"
     },
     "user_tz": -240
    },
    "id": "270spMRVP9a9",
    "outputId": "392f366d-db43-4cd7-9a89-28fe60560d06"
   },
   "outputs": [
    {
     "name": "stdout",
     "output_type": "stream",
     "text": [
      "(1, 2, 1, 2, 1, 2)\n"
     ]
    }
   ],
   "source": [
    "# Repitition:\n",
    "# You can repeat a tuple's elements using the * operator.  This also creates a new tuple.\n",
    "\n",
    "my_tuple = (1, 2)\n",
    "repeated_tuple = my_tuple * 3\n",
    "print(repeated_tuple)  # Output: (1, 2, 1, 2, 1, 2)\n"
   ]
  },
  {
   "cell_type": "code",
   "execution_count": null,
   "metadata": {
    "colab": {
     "base_uri": "https://localhost:8080/"
    },
    "executionInfo": {
     "elapsed": 301,
     "status": "ok",
     "timestamp": 1738506352420,
     "user": {
      "displayName": "Nb Baloch",
      "userId": "06738841947808833806"
     },
     "user_tz": -240
    },
    "id": "yKpEOI3tP9dr",
    "outputId": "33249fdf-40ca-4a4b-9d35-1bdc6d7586d7"
   },
   "outputs": [
    {
     "name": "stdout",
     "output_type": "stream",
     "text": [
      "True\n",
      "False\n",
      "True\n"
     ]
    }
   ],
   "source": [
    "# Membership Testing:\n",
    "# You can check if an element exists in a tuple using the in or not in operators:\n",
    "\n",
    "my_tuple = (1, 2, 3)\n",
    "print(2 in my_tuple)    # Output: True\n",
    "print(4 in my_tuple)    # Output: False\n",
    "print(5 not in my_tuple) # Output: True"
   ]
  },
  {
   "cell_type": "code",
   "execution_count": null,
   "metadata": {
    "colab": {
     "base_uri": "https://localhost:8080/"
    },
    "executionInfo": {
     "elapsed": 319,
     "status": "ok",
     "timestamp": 1738506358558,
     "user": {
      "displayName": "Nb Baloch",
      "userId": "06738841947808833806"
     },
     "user_tz": -240
    },
    "id": "L_ooXQ6pP9gd",
    "outputId": "648d90d9-29b6-4c1b-d64d-8638952d3504"
   },
   "outputs": [
    {
     "name": "stdout",
     "output_type": "stream",
     "text": [
      "10\n",
      "(20, 30, 40)\n",
      "50\n"
     ]
    }
   ],
   "source": [
    "# Indexing and Slicing:\n",
    "# These operations work exactly the same as with lists and strings:\n",
    "\n",
    "my_tuple = (10, 20, 30, 40, 50)\n",
    "print(my_tuple[0])    # Output: 10\n",
    "print(my_tuple[1:4])  # Output: (20, 30, 40)\n",
    "print(my_tuple[-1])   # Output: 50 (last element)"
   ]
  },
  {
   "cell_type": "code",
   "execution_count": null,
   "metadata": {
    "colab": {
     "base_uri": "https://localhost:8080/"
    },
    "executionInfo": {
     "elapsed": 1394,
     "status": "ok",
     "timestamp": 1738518847581,
     "user": {
      "displayName": "Nb Baloch",
      "userId": "06738841947808833806"
     },
     "user_tz": -240
    },
    "id": "XsjnnbW9P9jj",
    "outputId": "5eae983e-9d32-467a-d217-2cf22533914e"
   },
   "outputs": [
    {
     "name": "stdout",
     "output_type": "stream",
     "text": [
      "4\n"
     ]
    }
   ],
   "source": [
    "# Length:\n",
    "# Get the number of elements in a tuple using the len() function:\n",
    "my_tuple = (1, 2, 3, 4)\n",
    "print(len(my_tuple))  # Output: 4"
   ]
  },
  {
   "cell_type": "code",
   "execution_count": null,
   "metadata": {
    "colab": {
     "base_uri": "https://localhost:8080/"
    },
    "executionInfo": {
     "elapsed": 25,
     "status": "ok",
     "timestamp": 1738518847581,
     "user": {
      "displayName": "Nb Baloch",
      "userId": "06738841947808833806"
     },
     "user_tz": -240
    },
    "id": "iGPI6D4sP9oL",
    "outputId": "47aef029-8600-4279-942d-5c709bce8615"
   },
   "outputs": [
    {
     "name": "stdout",
     "output_type": "stream",
     "text": [
      "1\n",
      "9\n"
     ]
    }
   ],
   "source": [
    "# Minimum and Maximum Values (min(), max()):\n",
    "# You can find the smallest and largest elements in a tuple using the min() and max() functions.\n",
    "# These functions work only if all elements in the tuple are of comparable types\n",
    "# (e.g., all integers or all strings).\n",
    "\n",
    "numbers = (5, 2, 8, 1, 9)\n",
    "\n",
    "# Minimum and maximum values\n",
    "print(min(numbers))  # Output: 1\n",
    "print(max(numbers))  # Output: 9"
   ]
  },
  {
   "cell_type": "code",
   "execution_count": null,
   "metadata": {
    "colab": {
     "base_uri": "https://localhost:8080/"
    },
    "executionInfo": {
     "elapsed": 6,
     "status": "ok",
     "timestamp": 1738518850599,
     "user": {
      "displayName": "Nb Baloch",
      "userId": "06738841947808833806"
     },
     "user_tz": -240
    },
    "id": "BdXdBPC4P9rZ",
    "outputId": "7f3377b3-5baf-413f-cd51-c031a7bb3da6"
   },
   "outputs": [
    {
     "name": "stdout",
     "output_type": "stream",
     "text": [
      "15\n"
     ]
    }
   ],
   "source": [
    "#  Summing Elements (sum()):\n",
    "# You can calculate the sum of all elements in a tuple using the sum() function.\n",
    "# this works for numeric elements.\n",
    "\n",
    "numbers = (1, 2, 3, 4, 5)\n",
    "\n",
    "# sum of elements\n",
    "print(sum(numbers))  # Output: 15"
   ]
  },
  {
   "cell_type": "code",
   "execution_count": null,
   "metadata": {
    "colab": {
     "base_uri": "https://localhost:8080/"
    },
    "executionInfo": {
     "elapsed": 6,
     "status": "ok",
     "timestamp": 1738518850600,
     "user": {
      "displayName": "Nb Baloch",
      "userId": "06738841947808833806"
     },
     "user_tz": -240
    },
    "id": "Mt_Sfq73D34g",
    "outputId": "53725fe9-9cab-44f4-f0b2-ccbb6096bfc9"
   },
   "outputs": [
    {
     "name": "stdout",
     "output_type": "stream",
     "text": [
      "apple\n",
      "banana\n",
      "cherry\n"
     ]
    }
   ],
   "source": [
    "# Iterating Over a Tuple:\n",
    "# You can iterate over the elements of a tuple using a for loop.\n",
    "\n",
    "my_tuple = ('apple', 'banana', 'cherry')\n",
    "\n",
    "# Iterating over a tuple\n",
    "for item in my_tuple:\n",
    "  print(item)"
   ]
  },
  {
   "cell_type": "code",
   "execution_count": null,
   "metadata": {
    "colab": {
     "base_uri": "https://localhost:8080/"
    },
    "executionInfo": {
     "elapsed": 4,
     "status": "ok",
     "timestamp": 1738518850600,
     "user": {
      "displayName": "Nb Baloch",
      "userId": "06738841947808833806"
     },
     "user_tz": -240
    },
    "id": "qZMHJJUmD37e",
    "outputId": "f5c419c5-0bfc-4df4-9ba1-60fb9d892bde"
   },
   "outputs": [
    {
     "name": "stdout",
     "output_type": "stream",
     "text": [
      "1\n",
      "2\n",
      "3\n"
     ]
    }
   ],
   "source": [
    "# Tuple Packing and Unpacking:\n",
    "# Tuples can be packed and unpacked without explicity using parenthese.\n",
    "\n",
    "# Packing : Assigning nultiple values to a tuple.\n",
    "packed_tuple = 1, 2, 3, 4, 5\n",
    "\n",
    "# Packing : Extracting values from a tuple into variables.\n",
    "a, b, c, d, e = packed_tuple\n",
    "\n",
    "print(a)  # Output: 1\n",
    "print(b)  # Output: 2\n",
    "print(c)  # Output: 3"
   ]
  },
  {
   "cell_type": "code",
   "execution_count": null,
   "metadata": {
    "colab": {
     "base_uri": "https://localhost:8080/"
    },
    "executionInfo": {
     "elapsed": 2,
     "status": "ok",
     "timestamp": 1738518853315,
     "user": {
      "displayName": "Nb Baloch",
      "userId": "06738841947808833806"
     },
     "user_tz": -240
    },
    "id": "8OemAH1SD4Bq",
    "outputId": "c775a13c-9677-45d6-fe2d-a0865e837cf6"
   },
   "outputs": [
    {
     "name": "stdout",
     "output_type": "stream",
     "text": [
      "4\n"
     ]
    }
   ],
   "source": [
    "# Counting Occurence (count()):\n",
    "# The count() method returns the number of times a specific value appears int the tuple.\n",
    "\n",
    "my_tuple = (1, 2, 2, 3, 2, 4, 2)\n",
    "\n",
    "# Count the number of occurrences of 2\n",
    "print(my_tuple.count(2))"
   ]
  },
  {
   "cell_type": "code",
   "execution_count": null,
   "metadata": {
    "id": "MLDgflMmD4FD"
   },
   "outputs": [],
   "source": [
    "# index():\n",
    "# The index() method returns the index of the first occurrence of a specified value in the tuple.\n",
    "# If the value is not found, it raises a ValueError.\n",
    "\n",
    "my_tuple = (10, 20, 30, 40)\n",
    "\n",
    "# Find the index of 30\n",
    "print(my_tuple.index(30))  # Output: 2"
   ]
  },
  {
   "cell_type": "code",
   "execution_count": null,
   "metadata": {
    "id": "4JjOS_xTGW63"
   },
   "outputs": [],
   "source": [
    "# Nested Tuples:\n",
    "# Tuples can contain other tuples (or other data structures like lists).\n",
    "# You can access elements of nested tuples using multiple indices.\n",
    "\n",
    "nested_tuple = ((1, 2), (3, 4), (5, 6))\n",
    "\n",
    "# Accessing elements in a nested tuple\n",
    "print(nested_tuple[0])      # Output: (1, 2)\n",
    "print(nested_tuple[0][1])   # Output: 2"
   ]
  },
  {
   "cell_type": "code",
   "execution_count": null,
   "metadata": {
    "id": "OJEklVICGW3w"
   },
   "outputs": [],
   "source": [
    "# Comparing Tuples:\n",
    "# Tuples can be compared using comparison operators (==, !=, <, >, etc.).\n",
    "# The comparison is done element-wise.\n",
    "tuple1 = (1, 2, 3)\n",
    "tuple2 = (1, 2, 4)\n",
    "\n",
    "# Comparing tuples\n",
    "print(tuple1 == tuple2)  # Output: False\n",
    "print(tuple1 < tuple2)   # Output: True (since 3 < 4)"
   ]
  },
  {
   "cell_type": "code",
   "execution_count": null,
   "metadata": {
    "id": "h4c3XTWqGW0n"
   },
   "outputs": [],
   "source": [
    "# Conversion\n",
    "# You can convert between lists and tuples using the list() and tuple() functions.\n",
    "\n",
    "# Convert lists to Tuple:\n",
    "my_list = [1, 2, 3]\n",
    "my_tuple = tuple(my_list)\n",
    "print(my_tuple)  # Output: (1, 2, 3)\n",
    "\n",
    "# Convert Tuple to list:\n",
    "my_tuple = (4, 5, 6)\n",
    "my_list = list(my_tuple)\n",
    "print(my_list)  # Output: [4, 5, 6]"
   ]
  },
  {
   "cell_type": "markdown",
   "metadata": {
    "id": "nJP3czgSHO8g"
   },
   "source": [
    "### Conclusion\n",
    "Even though tuples are immutable, they support a wide variety of operations that make them useful in many scenarios. Tuples are often used when you need a fixed collection of items that shouldn't change, such as returning multiple values from a function, storing coordinates, or using them as keys in dictionaries."
   ]
  },
  {
   "cell_type": "markdown",
   "metadata": {
    "id": "gJGnOBPtJ-N7"
   },
   "source": [
    "## Tuple Methods\n",
    "Tuples in Python have only two built-in methods: count() and index().  This limited set of methods is a direct consequence of tuples being immutable.  Since you can't modify a tuple after it's created, methods that would change the tuple (like append(), insert(), remove(), etc., which lists have) are not available for tuples."
   ]
  },
  {
   "cell_type": "markdown",
   "metadata": {
    "id": "KcCTWA5zKIdW"
   },
   "source": [
    "Here's a breakdown of the two tuple methods:\n",
    "1. count(value):\n",
    "* Returns the number of times a specified ***value*** appears in the tuple."
   ]
  },
  {
   "cell_type": "code",
   "execution_count": null,
   "metadata": {
    "id": "0m7e8TBUJ95B"
   },
   "outputs": [],
   "source": [
    "my_tuple = (1, 2, 2, 3, 2, 4)\n",
    "count_of_2 = my_tuple.count(2)\n",
    "print(count_of_2)  # Output: 3\n",
    "\n",
    "count_of_5 = my_tuple.count(5)\n",
    "print(count_of_5)  # Output: 0 (5 is not in the tuple)"
   ]
  },
  {
   "cell_type": "markdown",
   "metadata": {
    "id": "LQXW_7J2Kmms"
   },
   "source": [
    "2. index(value, start, end):\n",
    "* Returns the index of the *first* occurrence of the specified **value** in the tuple.\n",
    "* You can optionally provide **start** and **end** arguments to specify a slice of the tuple to search within."
   ]
  },
  {
   "cell_type": "code",
   "execution_count": null,
   "metadata": {
    "id": "xfUblBQiKmT3"
   },
   "outputs": [],
   "source": [
    "my_tuple = (10, 20, 30, 20, 40)\n",
    "index_of_20 = my_tuple.index(20)\n",
    "print(index_of_20)  # Output: 1 (first occurrence)"
   ]
  },
  {
   "cell_type": "code",
   "execution_count": null,
   "metadata": {
    "id": "24OlUV0pGWxv"
   },
   "outputs": [],
   "source": [
    "# Search within a slice:\n",
    "index_of_20_after_2 = my_tuple.index(20, 2) #start searching from index 2\n",
    "print(index_of_20_after_2)  # Output: 3"
   ]
  },
  {
   "cell_type": "code",
   "execution_count": null,
   "metadata": {
    "id": "5yxAIDSqGWus"
   },
   "outputs": [],
   "source": [
    "\n",
    "# If the value is not found, a ValueError is raised:\n",
    "index_of_50 = my_tuple.index(50)  # Raises ValueError: tuple.index(x): x not in tuple\n"
   ]
  },
  {
   "cell_type": "code",
   "execution_count": null,
   "metadata": {
    "id": "53CbmSn-Lsw5"
   },
   "outputs": [],
   "source": [
    "# To avoid the ValueError, you can check if the element exists before using index():\n",
    "if 50 in my_tuple:\n",
    "    index_of_50 = my_tuple.index(50)\n",
    "else:\n",
    "    print(\"50 is not in the tuple\")"
   ]
  },
  {
   "cell_type": "code",
   "execution_count": null,
   "metadata": {
    "colab": {
     "base_uri": "https://localhost:8080/"
    },
    "executionInfo": {
     "elapsed": 308,
     "status": "ok",
     "timestamp": 1738541541798,
     "user": {
      "displayName": "Nb Baloch",
      "userId": "06738841947808833806"
     },
     "user_tz": -240
    },
    "id": "wQeWBBDnIeMv",
    "outputId": "0a347420-8881-4b6f-f047-2e32d6f41e21"
   },
   "outputs": [
    {
     "name": "stdout",
     "output_type": "stream",
     "text": [
      "Lenght = 5\n",
      "Minimum = 1\n",
      "Maximum = 5\n",
      "Sum = 15\n",
      "Sorted Reverse = [5, 4, 3, 2, 1]\n"
     ]
    }
   ],
   "source": [
    "a_tuple = (1, 2, 3, 4, 5)\n",
    "\n",
    "print(f\"Lenght = {len(a_tuple)}\")\n",
    "print(f\"Minimum = {min(a_tuple)}\")\n",
    "print(f\"Maximum = {max(a_tuple)}\")\n",
    "print(f\"Sum = {sum(a_tuple)}\")\n",
    "print(f\"Sorted Reverse = {sorted(a_tuple, reverse=True)}\")"
   ]
  },
  {
   "cell_type": "markdown",
   "metadata": {
    "id": "knkG0I7jLxPG"
   },
   "source": [
    "***Why so few methods?***\n",
    "\n",
    "The limited number of methods reflects the fundamental nature of tuples: they are designed to hold a fixed sequence of items.  Any operation that would modify the tuple's structure or contents is not allowed.  This immutability is a key feature of tuples, providing data integrity and making them suitable for specific use cases (like dictionary keys).\n",
    "If you need to perform operations that modify the sequence (adding, removing, or changing elements), you should use a list instead.  You can convert a tuple to a list using list(my_tuple), perform the modifications, and then convert it back to a tuple if needed using tuple(my_list).  However, keep in mind that converting back to a tuple creates a new tuple object."
   ]
  },
  {
   "cell_type": "code",
   "execution_count": null,
   "metadata": {
    "colab": {
     "base_uri": "https://localhost:8080/"
    },
    "executionInfo": {
     "elapsed": 352,
     "status": "ok",
     "timestamp": 1738542477450,
     "user": {
      "displayName": "Nb Baloch",
      "userId": "06738841947808833806"
     },
     "user_tz": -240
    },
    "id": "nekHG64jLs0C",
    "outputId": "9b57f47c-fd49-4611-c982-55c73855fd26"
   },
   "outputs": [
    {
     "name": "stdout",
     "output_type": "stream",
     "text": [
      "Size of List: 8056\n",
      "Size of Tuple: 8040\n"
     ]
    }
   ],
   "source": [
    "# Demonstrating a key difference in memory usage between lists and tuples in Python\n",
    "import sys\n",
    "\n",
    "my_list = list(range(1000))\n",
    "my_tuple = tuple(range(1000))\n",
    "\n",
    "print(f'Size of List: {sys.getsizeof(my_list)}') # The sys.getsizeof() function returns the size of the object in bytes, including the memory overhead for the object itself.\n",
    "print(f'Size of Tuple: {sys.getsizeof(my_tuple)}')\n",
    "\n",
    "# Output:\n",
    "# Size of List: 8056\n",
    "# Size of Tuple: 8040"
   ]
  },
  {
   "cell_type": "code",
   "execution_count": null,
   "metadata": {
    "colab": {
     "base_uri": "https://localhost:8080/"
    },
    "executionInfo": {
     "elapsed": 313,
     "status": "ok",
     "timestamp": 1738542975255,
     "user": {
      "displayName": "Nb Baloch",
      "userId": "06738841947808833806"
     },
     "user_tz": -240
    },
    "id": "1kV7F9suLs2_",
    "outputId": "1321d393-99b4-4530-9d10-662c9e0b0e8e"
   },
   "outputs": [
    {
     "name": "stdout",
     "output_type": "stream",
     "text": [
      "36952\n"
     ]
    }
   ],
   "source": [
    "dic = {i: i for i in range(1000)}\n",
    "print(sys.getsizeof(dic))"
   ]
  },
  {
   "cell_type": "code",
   "execution_count": null,
   "metadata": {
    "colab": {
     "base_uri": "https://localhost:8080/"
    },
    "executionInfo": {
     "elapsed": 299,
     "status": "ok",
     "timestamp": 1738543070666,
     "user": {
      "displayName": "Nb Baloch",
      "userId": "06738841947808833806"
     },
     "user_tz": -240
    },
    "id": "CiT1JnpCLs5l",
    "outputId": "1a9bdc83-7d57-4a85-a13e-f48e32598cec"
   },
   "outputs": [
    {
     "name": "stdout",
     "output_type": "stream",
     "text": [
      "1\n",
      "2\n",
      "[3, 4, 5, 6, 7]\n"
     ]
    }
   ],
   "source": [
    "a,b, *c = (1, 2, 3, 4, 5, 6, 7)\n",
    "print(a)\n",
    "print(b)\n",
    "print(c)"
   ]
  },
  {
   "cell_type": "markdown",
   "metadata": {
    "id": "Zp2bgEklQYY-"
   },
   "source": [
    "### Tuple Comprehension\n",
    "You can't create a tuple using a tuple comprehension in the same way you create a list using a list comprehension.  List comprehensions produce lists, and the direct equivalent for tuples doesn't exist.\n",
    "\n",
    "However, you can achieve the desired result by combining a generator expression with the tuple() constructor.  This approach is the most efficient and Pythonic way to create tuples based on some logic or transformation."
   ]
  },
  {
   "cell_type": "code",
   "execution_count": null,
   "metadata": {
    "colab": {
     "base_uri": "https://localhost:8080/"
    },
    "executionInfo": {
     "elapsed": 4,
     "status": "ok",
     "timestamp": 1738543392163,
     "user": {
      "displayName": "Nb Baloch",
      "userId": "06738841947808833806"
     },
     "user_tz": -240
    },
    "id": "GH8Z-7GiPhhp",
    "outputId": "691f5b3c-fb8d-4cb7-9b2e-76b02d58db2d"
   },
   "outputs": [
    {
     "name": "stdout",
     "output_type": "stream",
     "text": [
      "(0, 2, 4, 6, 8)\n"
     ]
    }
   ],
   "source": [
    "# here's how it works\n",
    "\n",
    "# Generator expression (note the parentheses, not square brackets)\n",
    "my_generator = (x * 2 for x in range(5))  # Doubles each number from 0 to 4\n",
    "\n",
    "# Convert the generator to a tuple\n",
    "my_tuple = tuple(my_generator)\n",
    "print(my_tuple)  # Output: (0, 2, 4, 6, 8)"
   ]
  },
  {
   "cell_type": "markdown",
   "metadata": {
    "id": "Rqtq6RcHQxGE"
   },
   "source": [
    "**Explanation:**\n",
    "1. **Generator Expression:** (x * 2 for x in range(5)) is a generator expression.  It's very similar to a list comprehension, but it uses parentheses ( ) instead of square brackets [ ].  The key difference is that a generator expression doesn't create the entire sequence in memory at once.  Instead, it produces values on demand, as you iterate over it.\n",
    "2. *tuple()* **Constructor:** The *tuple()* constructor takes an iterable (like a generator, list, or other sequence) as an argument and converts it into a tuple.  In this case, we pass the generator expression to *tuple()*.  This forces the generator to produce all its values, and then the *tuple()* constructor creates a tuple containing those values."
   ]
  },
  {
   "cell_type": "code",
   "execution_count": null,
   "metadata": {
    "colab": {
     "base_uri": "https://localhost:8080/"
    },
    "executionInfo": {
     "elapsed": 321,
     "status": "ok",
     "timestamp": 1738543763034,
     "user": {
      "displayName": "Nb Baloch",
      "userId": "06738841947808833806"
     },
     "user_tz": -240
    },
    "id": "cGE6xEnPPhkk",
    "outputId": "efab60cf-2ec2-4c85-c5dd-c111c826d40a"
   },
   "outputs": [
    {
     "name": "stdout",
     "output_type": "stream",
     "text": [
      "(0, 2, 4, 6, 8)\n"
     ]
    }
   ],
   "source": [
    "# Example with a condition:\n",
    "\n",
    "my_tuple = tuple(x for x in range(10) if x % 2 == 0) # Tuple of even numbers from 0 to 9\n",
    "print(my_tuple)\n"
   ]
  },
  {
   "cell_type": "markdown",
   "metadata": {
    "id": "JCMeFIG9nRfS"
   },
   "source": [
    "\n",
    "\n",
    "---\n",
    "\n"
   ]
  },
  {
   "cell_type": "markdown",
   "metadata": {
    "id": "08peFuX18Eme"
   },
   "source": [
    "## [Sets](https://www.w3schools.com/python/python_sets.asp)\n",
    "Sets in Python are unordered collections of unique elements.  They are extremely useful for tasks like removing duplicates, checking for membership, and performing set operations (union, intersection, difference, etc.).  Let's explore the key aspects of sets:"
   ]
  },
  {
   "cell_type": "markdown",
   "metadata": {
    "id": "oW0qKJ978srE"
   },
   "source": [
    "1. **Unordered:** Sets do not maintain any specific order of elements.  The elements are stored in an arbitrary order, so you cannot rely on the order in which they are inserted.  \n",
    "2. **Unique Elements:**  A set can only contain unique elements.  If you try to add a duplicate element, it will be ignored (the set will not be modified).  \n",
    "3. **Mutable:** Sets are mutable, meaning you can add or remove elements after the set is created.  \n",
    "4. **Syntax:** Sets are defined using curly braces *{ }*:  "
   ]
  },
  {
   "cell_type": "code",
   "execution_count": null,
   "metadata": {
    "id": "0T8-848sPhnY"
   },
   "outputs": [],
   "source": [
    "my_set = {1, 2, 3, 4, 5}  # A set of integers\n",
    "another_set = {\"apple\", \"banana\", \"cherry\"}  # A set of strings\n",
    "mixed_set = {1, \"hello\", 3.14}  # A set with mixed data types\n",
    "empty_set = set()  # An empty set (note: {} creates a dictionary, not an empty set)"
   ]
  },
  {
   "cell_type": "markdown",
   "metadata": {
    "id": "QcccIqSi9ODP"
   },
   "source": [
    "### Key Operations and Characteristics:  \n",
    "* **Creating Sets:** Use curly braces { } (for non-empty sets) or the *set()* constructor (for empty sets or to convert other iterables to sets).  \n",
    "* **Adding Elements:** Use the *add()* method:"
   ]
  },
  {
   "cell_type": "code",
   "execution_count": null,
   "metadata": {
    "id": "_YYmr_V49Nz4"
   },
   "outputs": [],
   "source": [
    "my_set = {1, 2, 3}\n",
    "my_set.add(4)\n",
    "print(my_set)  # Output: {1, 2, 3, 4}\n",
    "my_set.add(2) # Adding a duplicate, no change\n",
    "print(my_set) # Output: {1, 2, 3, 4}"
   ]
  },
  {
   "cell_type": "markdown",
   "metadata": {
    "id": "crWJFeAl-AeV"
   },
   "source": [
    "* **Removing Elements:** Use the *remove()* method (raises **KeyError** if the element is not found) or the *discard()* method (does not raise an error):  "
   ]
  },
  {
   "cell_type": "code",
   "execution_count": null,
   "metadata": {
    "id": "UmHhOgwkPhse"
   },
   "outputs": [],
   "source": [
    "my_set = {1, 2, 3}\n",
    "my_set.remove(2)\n",
    "print(my_set)  # Output: {1, 3}\n",
    "\n",
    "my_set.discard(4)  # No error if 4 is not present\n",
    "print(my_set) # Output: {1, 3}\n",
    "\n",
    "#my_set.remove(4) # Raises KeyError: 4"
   ]
  },
  {
   "cell_type": "markdown",
   "metadata": {
    "id": "evUTe2fO-xb5"
   },
   "source": [
    "* **Membership Testing:** Use the *in* or *not in* operators:"
   ]
  },
  {
   "cell_type": "code",
   "execution_count": null,
   "metadata": {
    "id": "Z0fkTOao-xPu"
   },
   "outputs": [],
   "source": [
    "my_set = {1, 2, 3}\n",
    "print(2 in my_set)    # Output: True\n",
    "print(4 in my_set)    # Output: False"
   ]
  },
  {
   "cell_type": "markdown",
   "metadata": {
    "id": "G1kPk2cj_HjE"
   },
   "source": [
    "### Set Operations:\n",
    "* **Union:** | or *union()* : Combines elemments from both sets.\n",
    "* **Intersection:** *&* or *intersection()*: Returns elements common to both sets.\n",
    "* **Difference:** *-* or *difference()*: Returns elements in the first set but not the second.\n",
    "* **Symmetric Difference:** *^* or *Symmetric_difference()*: Returns elements that are in either set, but not both."
   ]
  },
  {
   "cell_type": "code",
   "execution_count": null,
   "metadata": {
    "id": "03pwwMdHPhvA"
   },
   "outputs": [],
   "source": [
    "set1 = {1, 2, 3}\n",
    "set2 = {3, 4, 5}\n",
    "\n",
    "print(set1 | set2)  # Output: {1, 2, 3, 4, 5} (union)\n",
    "print(set1 & set2)  # Output: {3} (intersection)\n",
    "print(set1 - set2)  # Output: {1, 2} (difference)\n",
    "print(set1 ^ set2)  # Output: {1, 2, 4, 5} (symmetric difference)"
   ]
  },
  {
   "cell_type": "markdown",
   "metadata": {
    "id": "pqbhT0RgA54s"
   },
   "source": [
    "* **Length:** Use the *len()* function to get the number of elements.\n",
    "* **Iteration:** You can iterate through a set, but remember that the order is arbitrary."
   ]
  },
  {
   "cell_type": "code",
   "execution_count": null,
   "metadata": {
    "id": "GTh3n3iA-_xN"
   },
   "outputs": [],
   "source": [
    "my_set = {1, 2, 3}\n",
    "for element in my_set:\n",
    "    print(element)  # Output will be in an arbitrary order"
   ]
  },
  {
   "cell_type": "markdown",
   "metadata": {
    "id": "o6piloCXBaEq"
   },
   "source": [
    "### Use Cases:\n",
    "* **Removing Duplicates:** Converting a list to a set automatically removes duplicates: *unique_list = list(set(my_list))*  \n",
    "* **Membership Checking:** Sets are very efficient for checking for checking if an elements is present in a collection.\n",
    "* **Set Operations:** Performing mathematical set operations (union, intersection, etc.).\n"
   ]
  },
  {
   "cell_type": "markdown",
   "metadata": {
    "id": "saRT40QKCa_J"
   },
   "source": [
    "### Example: Removing Duplicates"
   ]
  },
  {
   "cell_type": "code",
   "execution_count": null,
   "metadata": {
    "id": "h-O1VcBaBYcz"
   },
   "outputs": [],
   "source": [
    "my_list = [1, 2, 2, 3, 4, 4, 5]\n",
    "unique_list = list(set(my_list))\n",
    "print(unique_list)  # Output: [1, 2, 3, 4, 5]"
   ]
  },
  {
   "cell_type": "markdown",
   "metadata": {
    "id": "cd1tuZ7AGwlN"
   },
   "source": [
    "Set Methods:\n",
    "![set_methods.png](data:image/png;base64,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)"
   ]
  },
  {
   "cell_type": "code",
   "execution_count": null,
   "metadata": {
    "colab": {
     "base_uri": "https://localhost:8080/"
    },
    "executionInfo": {
     "elapsed": 580,
     "status": "ok",
     "timestamp": 1738561242521,
     "user": {
      "displayName": "Nb Baloch",
      "userId": "06738841947808833806"
     },
     "user_tz": -240
    },
    "id": "QkdR8cxRBYgc",
    "outputId": "7501c220-5cbf-48b5-dc55-51c2ba020cd3"
   },
   "outputs": [
    {
     "name": "stdout",
     "output_type": "stream",
     "text": [
      "{40, 10, 50, 30}\n"
     ]
    }
   ],
   "source": [
    "# practice\n",
    "\n",
    "# Ex1: Creating and Modifying Sets\n",
    "#create an empty set called my_set\n",
    "my_set = set()\n",
    "\n",
    "# Add following elements to the set 10, 20, 30, 40\n",
    "my_set.add(10)\n",
    "my_set.add(20)\n",
    "my_set.add(30)\n",
    "my_set.add(40)\n",
    "\n",
    "# remove the element 20 from the set\n",
    "my_set.remove(20)\n",
    "\n",
    "# Add the element 50 to the set\n",
    "my_set.add(50)\n",
    "\n",
    "# Print the set\n",
    "print(my_set)"
   ]
  },
  {
   "cell_type": "code",
   "execution_count": null,
   "metadata": {
    "colab": {
     "base_uri": "https://localhost:8080/"
    },
    "executionInfo": {
     "elapsed": 510,
     "status": "ok",
     "timestamp": 1738561583420,
     "user": {
      "displayName": "Nb Baloch",
      "userId": "06738841947808833806"
     },
     "user_tz": -240
    },
    "id": "pw8WuK2VBYjr",
    "outputId": "2dc396b9-5c51-4138-cc84-4f34266b35bf"
   },
   "outputs": [
    {
     "name": "stdout",
     "output_type": "stream",
     "text": [
      "[1, 2, 3, 4, 5]\n"
     ]
    }
   ],
   "source": [
    "# Ex2: Removing Dupicates\n",
    "\n",
    "my_list = [1, 2, 2, 3, 4, 4, 5]\n",
    "\n",
    "# convert list into a set to remove duplicate\n",
    "unique_list = set(my_list)\n",
    "\n",
    "# convert the set back into a list\n",
    "my_list = list(unique_list)\n",
    "\n",
    "print(my_list)"
   ]
  },
  {
   "cell_type": "code",
   "execution_count": null,
   "metadata": {
    "colab": {
     "base_uri": "https://localhost:8080/"
    },
    "executionInfo": {
     "elapsed": 381,
     "status": "ok",
     "timestamp": 1738561722798,
     "user": {
      "displayName": "Nb Baloch",
      "userId": "06738841947808833806"
     },
     "user_tz": -240
    },
    "id": "2l_Z-7K8BYnM",
    "outputId": "441cd105-758e-4d16-fea9-8a8d72ba16c8"
   },
   "outputs": [
    {
     "name": "stdout",
     "output_type": "stream",
     "text": [
      "Union : {1, 2, 3, 4, 5, 6, 7, 8}\n",
      "Intersection : {4, 5}\n",
      "Difference : {1, 2, 3}\n",
      "Symmetric Difference : {1, 2, 3, 6, 7, 8}\n"
     ]
    }
   ],
   "source": [
    "# Ex3: Set Operations\n",
    "\n",
    "set1 = {1, 2, 3, 4, 5}\n",
    "set2 = {4, 5, 6, 7, 8}\n",
    "\n",
    "# Find the union of set1 and set2\n",
    "union_set = set1 | set2\n",
    "print(f\"Union : {union_set}\")\n",
    "\n",
    "# Find the intersection of set1 and set2\n",
    "intersection_set = set1 & set2\n",
    "print(f\"Intersection : {intersection_set}\")\n",
    "\n",
    "# Find the difference between set1 and set2\n",
    "difference_set = set1 - set2\n",
    "print(f\"Difference : {difference_set}\")\n",
    "\n",
    "# Find the symmetric difference between set1 and set2\n",
    "symmetric_difference_set = set1 ^ set2\n",
    "print(f\"Symmetric Difference : {symmetric_difference_set}\")\n"
   ]
  },
  {
   "cell_type": "code",
   "execution_count": null,
   "metadata": {
    "colab": {
     "base_uri": "https://localhost:8080/"
    },
    "executionInfo": {
     "elapsed": 4256,
     "status": "ok",
     "timestamp": 1738562241280,
     "user": {
      "displayName": "Nb Baloch",
      "userId": "06738841947808833806"
     },
     "user_tz": -240
    },
    "id": "PfCQMQ5uXJH_",
    "outputId": "30b67a6c-8094-4c59-8aa0-218bd6de6900"
   },
   "outputs": [
    {
     "name": "stdout",
     "output_type": "stream",
     "text": [
      "Enter the number to check whether available inside set or not: 20\n",
      "Enter the number to check whether available inside set or not: 25\n",
      "20 is in the set: True\n",
      "25 is in the set: False\n"
     ]
    }
   ],
   "source": [
    "# Ex4: Membership Testing\n",
    "my_set = {10, 20, 30, 40, 50}\n",
    "\n",
    "# check whether the following elements are present in the set:\n",
    "number = int(input(\"Enter the number to check whether available inside set or not: \"))\n",
    "number2 = int(input(\"Enter the number to check whether available inside set or not: \"))\n",
    "print(f\"{number} is in the set: {number in my_set}\")\n",
    "print(f\"{number2} is in the set: {number2 in my_set}\")"
   ]
  },
  {
   "cell_type": "code",
   "execution_count": null,
   "metadata": {
    "colab": {
     "base_uri": "https://localhost:8080/"
    },
    "executionInfo": {
     "elapsed": 560,
     "status": "ok",
     "timestamp": 1738562447228,
     "user": {
      "displayName": "Nb Baloch",
      "userId": "06738841947808833806"
     },
     "user_tz": -240
    },
    "id": "-hZdYk3CXJT9",
    "outputId": "5fe5e374-de65-416e-a6ae-045d015f85ef"
   },
   "outputs": [
    {
     "name": "stdout",
     "output_type": "stream",
     "text": [
      "date\n",
      "banana\n",
      "apple\n",
      "cherry\n"
     ]
    }
   ],
   "source": [
    "# Ex5: Iterating over a set\n",
    "\n",
    "fruites = {'apple', 'banana', 'cherry', 'date'}\n",
    "\n",
    "# Iterate over the set and print each fruite. Note that the order may vary since sets are unordered.\n",
    "for fruite in fruites:\n",
    "    print(fruite)"
   ]
  },
  {
   "cell_type": "code",
   "execution_count": null,
   "metadata": {
    "colab": {
     "base_uri": "https://localhost:8080/"
    },
    "executionInfo": {
     "elapsed": 511,
     "status": "ok",
     "timestamp": 1738562720063,
     "user": {
      "displayName": "Nb Baloch",
      "userId": "06738841947808833806"
     },
     "user_tz": -240
    },
    "id": "6KrIpSAiXJdH",
    "outputId": "a33f09db-5a75-415f-bbaa-ae05fb71ecf0"
   },
   "outputs": [
    {
     "name": "stdout",
     "output_type": "stream",
     "text": [
      "AttributeError: 'frozenset' object has no attribute 'add'\n"
     ]
    }
   ],
   "source": [
    "# Ex6: Frozenset\n",
    "\n",
    "try:\n",
    "  # create a frozenset called frozen containing the elements {1, 2, 3}\n",
    "  frozen = frozenset({1, 2, 3})\n",
    "\n",
    "  # attempt to add the element 4 to the frozenset and observe the error\n",
    "  frozen.add(4)\n",
    "except AttributeError as e:\n",
    "  print(f\"AttributeError: {e}\")"
   ]
  },
  {
   "cell_type": "code",
   "execution_count": null,
   "metadata": {
    "colab": {
     "base_uri": "https://localhost:8080/"
    },
    "executionInfo": {
     "elapsed": 508,
     "status": "ok",
     "timestamp": 1738562675495,
     "user": {
      "displayName": "Nb Baloch",
      "userId": "06738841947808833806"
     },
     "user_tz": -240
    },
    "id": "V0IdATv6Z_xY",
    "outputId": "5bef3d1b-4402-499b-dfe8-aae7eedb008a"
   },
   "outputs": [
    {
     "name": "stdout",
     "output_type": "stream",
     "text": [
      "frozenset({1, 2, 3, 4, 5})\n"
     ]
    }
   ],
   "source": [
    "# create another frozenset called frozen2 containing {3, 4, 5}\n",
    "frozen2 = frozenset({3, 4, 5})\n",
    "\n",
    "# perform a union operation between frozen and frozen and print the result\n",
    "union_set = frozen | frozen2\n",
    "print(union_set)"
   ]
  },
  {
   "cell_type": "code",
   "execution_count": null,
   "metadata": {
    "colab": {
     "base_uri": "https://localhost:8080/"
    },
    "executionInfo": {
     "elapsed": 419,
     "status": "ok",
     "timestamp": 1738564112628,
     "user": {
      "displayName": "Nb Baloch",
      "userId": "06738841947808833806"
     },
     "user_tz": -240
    },
    "id": "i9IhrBQ8ajPq",
    "outputId": "32352aef-9608-4e92-d99c-bde54e25c4aa"
   },
   "outputs": [
    {
     "name": "stdout",
     "output_type": "stream",
     "text": [
      "{64, 1, 4, 36, 100, 9, 16, 49, 81, 25}\n"
     ]
    }
   ],
   "source": [
    "# Ex7: Set Comprehension\n",
    "\n",
    "# Use set comprehension to create a set of squares of numbers from 1 to 10\n",
    "squares_set = {x**2 for x in range(1, 11)}\n",
    "print(squares_set)\n"
   ]
  },
  {
   "cell_type": "code",
   "execution_count": null,
   "metadata": {
    "colab": {
     "base_uri": "https://localhost:8080/"
    },
    "executionInfo": {
     "elapsed": 393,
     "status": "ok",
     "timestamp": 1738564306947,
     "user": {
      "displayName": "Nb Baloch",
      "userId": "06738841947808833806"
     },
     "user_tz": -240
    },
    "id": "Rzu5y7nJajsG",
    "outputId": "6213d1b0-efe7-412c-c4d1-6999df5bc82f"
   },
   "outputs": [
    {
     "name": "stdout",
     "output_type": "stream",
     "text": [
      "Removed element: 50\n",
      "Updated set: {20, 40, 10, 30}\n"
     ]
    }
   ],
   "source": [
    "# Ex8: Removing Elements Using pop()\n",
    "\n",
    "my_set = {10, 20, 30, 40, 50}\n",
    "# Use the pop() method to remove an arbitrary element from the set\n",
    "removed_element = my_set.pop()\n",
    "\n",
    "# print the removed element and the updated set\n",
    "print(f\"Removed element: {removed_element}\")\n",
    "print(f\"Updated set: {my_set}\")"
   ]
  },
  {
   "cell_type": "code",
   "execution_count": null,
   "metadata": {
    "colab": {
     "base_uri": "https://localhost:8080/"
    },
    "executionInfo": {
     "elapsed": 449,
     "status": "ok",
     "timestamp": 1738564522756,
     "user": {
      "displayName": "Nb Baloch",
      "userId": "06738841947808833806"
     },
     "user_tz": -240
    },
    "id": "AJ7HhouNgnmY",
    "outputId": "a67522e7-21d9-41f4-c389-7db70a63e4da"
   },
   "outputs": [
    {
     "name": "stdout",
     "output_type": "stream",
     "text": [
      "Is set_a a subset of set_b? True\n",
      "Is set_b a superset of set_a? True\n"
     ]
    }
   ],
   "source": [
    "# Ex9: Checking SUbsets and Supersets\n",
    "\n",
    "set_a = {1, 2, 3}\n",
    "set_b = {1, 2, 3, 4, 5}\n",
    "\n",
    "# check whether\n",
    "# set_a is a subset of set_b\n",
    "print(f\"Is set_a a subset of set_b? {set_a.issubset(set_b)}\")\n",
    "\n",
    "# set_b is a superset of set_a\n",
    "print(f\"Is set_b a superset of set_a? {set_b.issuperset(set_a)}\")\n"
   ]
  },
  {
   "cell_type": "code",
   "execution_count": null,
   "metadata": {
    "colab": {
     "base_uri": "https://localhost:8080/"
    },
    "executionInfo": {
     "elapsed": 347,
     "status": "ok",
     "timestamp": 1738564722995,
     "user": {
      "displayName": "Nb Baloch",
      "userId": "06738841947808833806"
     },
     "user_tz": -240
    },
    "id": "_abNhW3-hbcR",
    "outputId": "ec3ee54f-7476-4356-e812-e2aa6959c2f4"
   },
   "outputs": [
    {
     "name": "stdout",
     "output_type": "stream",
     "text": [
      "{1, 2, 3, 6, 7, 8}\n"
     ]
    }
   ],
   "source": [
    "# Ex10: Symmetric Differnece Update\n",
    "\n",
    "set1 = {1, 2, 3, 4, 5}\n",
    "set2 = {4, 5, 6, 7, 8}\n",
    "\n",
    "# Perform a symmetric difference update on set1 using set2. This will modify set1 to contain only the elements that are in either set but not in both.\n",
    "set1.symmetric_difference_update(set2)\n",
    "\n",
    "# Print the updated set1\n",
    "print(set1)\n"
   ]
  },
  {
   "cell_type": "code",
   "execution_count": null,
   "metadata": {
    "colab": {
     "base_uri": "https://localhost:8080/"
    },
    "executionInfo": {
     "elapsed": 319,
     "status": "ok",
     "timestamp": 1738564858696,
     "user": {
      "displayName": "Nb Baloch",
      "userId": "06738841947808833806"
     },
     "user_tz": -240
    },
    "id": "M9MfYpG-hbzB",
    "outputId": "7ed5b3e7-387a-4e45-fa54-e25d422ad970"
   },
   "outputs": [
    {
     "name": "stdout",
     "output_type": "stream",
     "text": [
      "Number of unique words: 8\n",
      "{'jumps', 'dog', 'over', 'the', 'brown', 'fox', 'lazy', 'quick'}\n"
     ]
    }
   ],
   "source": [
    "# Ex11: Counting Unique Words\n",
    "\n",
    "sentence = \"the quick brown fox jumps over the lazy dog\"\n",
    "\n",
    "# Split the sentence into a list of words\n",
    "word_list = sentence.split()\n",
    "\n",
    "# Create a set to store unique words\n",
    "unique_words = set(word_list)\n",
    "\n",
    "# Print the number of unique words\n",
    "print(f\"Number of unique words: {len(unique_words)}\")\n",
    "\n",
    "print(unique_words)"
   ]
  },
  {
   "cell_type": "code",
   "execution_count": null,
   "metadata": {
    "colab": {
     "base_uri": "https://localhost:8080/"
    },
    "executionInfo": {
     "elapsed": 346,
     "status": "ok",
     "timestamp": 1738564937899,
     "user": {
      "displayName": "Nb Baloch",
      "userId": "06738841947808833806"
     },
     "user_tz": -240
    },
    "id": "6kGhWlFbhb9n",
    "outputId": "2f7a2737-d2be-437f-b7d5-87c393f57517"
   },
   "outputs": [
    {
     "name": "stdout",
     "output_type": "stream",
     "text": [
      "{1, 3, 5, 7, 9}\n"
     ]
    }
   ],
   "source": [
    "# Ex12: Removing Elements Conditionally\n",
    "\n",
    "numbers = {1, 2, 3, 4, 5, 6, 7, 8, 9, 10}\n",
    "\n",
    "# remove all even numbers from the set\n",
    "numbers.difference_update({x for x in numbers if x % 2 == 0})\n",
    "\n",
    "# print the updated set\n",
    "print(numbers)"
   ]
  },
  {
   "cell_type": "code",
   "execution_count": null,
   "metadata": {
    "colab": {
     "base_uri": "https://localhost:8080/"
    },
    "executionInfo": {
     "elapsed": 322,
     "status": "ok",
     "timestamp": 1738565205687,
     "user": {
      "displayName": "Nb Baloch",
      "userId": "06738841947808833806"
     },
     "user_tz": -240
    },
    "id": "l8YugKqihcIM",
    "outputId": "131a70cc-72f7-4149-ba2e-433fe34288b7"
   },
   "outputs": [
    {
     "name": "stdout",
     "output_type": "stream",
     "text": [
      "{1, 2, 3, 4, 5, 6}\n"
     ]
    }
   ],
   "source": [
    "# Ex13: Combining Sets with Lists\n",
    "\n",
    "my_list = [1, 2, 3, 4]\n",
    "my_set = {3, 4, 5, 6}\n",
    "\n",
    "# convert the list to a set\n",
    "my_list = set(my_list)\n",
    "union_set = my_list | my_set\n",
    "print(union_set)"
   ]
  },
  {
   "cell_type": "code",
   "execution_count": null,
   "metadata": {
    "colab": {
     "base_uri": "https://localhost:8080/"
    },
    "executionInfo": {
     "elapsed": 308,
     "status": "ok",
     "timestamp": 1738565295920,
     "user": {
      "displayName": "Nb Baloch",
      "userId": "06738841947808833806"
     },
     "user_tz": -240
    },
    "id": "zPhwAcVhj8dh",
    "outputId": "b14a10f2-a5ea-47b7-b6bc-5b4d42d56174"
   },
   "outputs": [
    {
     "name": "stdout",
     "output_type": "stream",
     "text": [
      "{4, 5}\n"
     ]
    }
   ],
   "source": [
    "# Ex14: Finding common elements between two lists\n",
    "\n",
    "list1 = [1, 2, 3, 4, 5]\n",
    "list2 = [4, 5, 6, 7, 8]\n",
    "\n",
    "# find the common elements between the two lists using sets.\n",
    "common_elements = set(list1) & set(list2)\n",
    "print(common_elements)"
   ]
  },
  {
   "cell_type": "code",
   "execution_count": null,
   "metadata": {
    "colab": {
     "base_uri": "https://localhost:8080/"
    },
    "executionInfo": {
     "elapsed": 386,
     "status": "ok",
     "timestamp": 1738565427581,
     "user": {
      "displayName": "Nb Baloch",
      "userId": "06738841947808833806"
     },
     "user_tz": -240
    },
    "id": "QMQp_6p8j8jp",
    "outputId": "c1425cc2-f04b-421d-8b5c-963fdf5e73a0"
   },
   "outputs": [
    {
     "name": "stdout",
     "output_type": "stream",
     "text": [
      "{'d', 'c'}\n"
     ]
    }
   ],
   "source": [
    "# Ex15: Set Intersection with Strings\n",
    "\n",
    "set_1 = {'a', 'b', 'c', 'd'}\n",
    "set_2 = {'c', 'd', 'e', 'f'}\n",
    "\n",
    "# find the intersection of the two sets\n",
    "intersection_set = set_1.intersection(set_2)\n",
    "print(intersection_set)\n"
   ]
  },
  {
   "cell_type": "code",
   "execution_count": null,
   "metadata": {
    "colab": {
     "base_uri": "https://localhost:8080/"
    },
    "executionInfo": {
     "elapsed": 319,
     "status": "ok",
     "timestamp": 1738590684694,
     "user": {
      "displayName": "Nb Baloch",
      "userId": "06738841947808833806"
     },
     "user_tz": -240
    },
    "id": "eNJljXOCj8mb",
    "outputId": "76843052-3190-424a-d797-664acd1402e2"
   },
   "outputs": [
    {
     "name": "stdout",
     "output_type": "stream",
     "text": [
      "{3, 1, (4, 5), 2}\n"
     ]
    }
   ],
   "source": [
    "s2D = {1, 2, 3, (4, 5)}\n",
    "print(s2D)\n",
    "# remember in set, 2D is only created using tuple as it is immutable\n",
    "# while list or dictionary even set itself causes TypeError"
   ]
  },
  {
   "cell_type": "code",
   "execution_count": null,
   "metadata": {
    "colab": {
     "base_uri": "https://localhost:8080/"
    },
    "executionInfo": {
     "elapsed": 306,
     "status": "ok",
     "timestamp": 1738590769503,
     "user": {
      "displayName": "Nb Baloch",
      "userId": "06738841947808833806"
     },
     "user_tz": -240
    },
    "id": "tiZW2mGUj8pY",
    "outputId": "71bf0297-07c7-48be-ce20-1d08b2cd505d"
   },
   "outputs": [
    {
     "name": "stdout",
     "output_type": "stream",
     "text": [
      "{1, (1, 2, 3), 4.5, 'hello'}\n"
     ]
    }
   ],
   "source": [
    "# homo and hetro\n",
    "s3 = {1, \"hello\", 4.5, (1, 2, 3)}\n",
    "print(s3)"
   ]
  },
  {
   "cell_type": "code",
   "execution_count": null,
   "metadata": {
    "colab": {
     "base_uri": "https://localhost:8080/"
    },
    "executionInfo": {
     "elapsed": 5,
     "status": "ok",
     "timestamp": 1738596607147,
     "user": {
      "displayName": "Nb Baloch",
      "userId": "06738841947808833806"
     },
     "user_tz": -240
    },
    "id": "dNynpNnqYQRu",
    "outputId": "eb322530-85b1-421a-9694-3734a44630dd"
   },
   "outputs": [
    {
     "name": "stdout",
     "output_type": "stream",
     "text": [
      "{2, 3, 6, 7, 8, 9, 10}\n"
     ]
    }
   ],
   "source": [
    "s = {1, 2, 3, 4, 5, 6, 7, 8, 9, 10}\n",
    "\n",
    "s.discard(4)\n",
    "s.remove(5)\n",
    "s.pop()\n",
    "print(s)"
   ]
  },
  {
   "cell_type": "code",
   "execution_count": null,
   "metadata": {
    "colab": {
     "base_uri": "https://localhost:8080/"
    },
    "executionInfo": {
     "elapsed": 306,
     "status": "ok",
     "timestamp": 1738598375270,
     "user": {
      "displayName": "Nb Baloch",
      "userId": "06738841947808833806"
     },
     "user_tz": -240
    },
    "id": "p03ffKneYQkH",
    "outputId": "9339a08c-6ac2-493a-fed0-069c325ad1dc"
   },
   "outputs": [
    {
     "name": "stdout",
     "output_type": "stream",
     "text": [
      "{1, 2, 3, 4, 5, 6, 7, 8}\n",
      "{1, 2, 3, 4, 5, 6, 7, 8}\n"
     ]
    }
   ],
   "source": [
    "num1 = {1, 2, 3, 4, 5}\n",
    "num2 = {4, 5, 6, 7, 8}\n",
    "num1.update(num2)\n",
    "print(num1)\n",
    "# or\n",
    "updated_num = num1 | num2\n",
    "print(updated_num)"
   ]
  },
  {
   "cell_type": "code",
   "execution_count": null,
   "metadata": {
    "colab": {
     "base_uri": "https://localhost:8080/"
    },
    "executionInfo": {
     "elapsed": 328,
     "status": "ok",
     "timestamp": 1738598415212,
     "user": {
      "displayName": "Nb Baloch",
      "userId": "06738841947808833806"
     },
     "user_tz": -240
    },
    "id": "HOXE8VadYQnK",
    "outputId": "57dbce82-7c0a-4b6f-d5e1-fffaaf766edb"
   },
   "outputs": [
    {
     "name": "stdout",
     "output_type": "stream",
     "text": [
      "{4, 5}\n"
     ]
    }
   ],
   "source": [
    "num1 = {1, 2, 3, 4, 5}\n",
    "num2 = {4, 5, 6, 7, 8}\n",
    "num1.intersection_update(num2)\n",
    "print(num1)"
   ]
  },
  {
   "cell_type": "code",
   "execution_count": null,
   "metadata": {
    "colab": {
     "base_uri": "https://localhost:8080/"
    },
    "executionInfo": {
     "elapsed": 302,
     "status": "ok",
     "timestamp": 1738598786363,
     "user": {
      "displayName": "Nb Baloch",
      "userId": "06738841947808833806"
     },
     "user_tz": -240
    },
    "id": "zZ3JLwkIYQrB",
    "outputId": "78a30a56-0840-4126-fffa-df1395174291"
   },
   "outputs": [
    {
     "name": "stdout",
     "output_type": "stream",
     "text": [
      "Is there no common values: False\n",
      "Is there no common values: True\n"
     ]
    }
   ],
   "source": [
    "num1 = {1, 2, 3, 4, 5}\n",
    "num2 = {4, 5, 6, 7, 8}\n",
    "print(f'Is there no common values: {num1.isdisjoint(num2)}')   # returns False cause there is common values between num1, num2\n",
    "print(f'Is there no common values: {num1.isdisjoint({6, 7, 8})}')  # returns True cause no common values"
   ]
  },
  {
   "cell_type": "markdown",
   "metadata": {
    "id": "xFWumtkgnNR1"
   },
   "source": [
    "\n",
    "\n",
    "---\n",
    "\n"
   ]
  },
  {
   "cell_type": "markdown",
   "metadata": {
    "id": "EbFg8zWUsQs9"
   },
   "source": [
    "## [Dictionary in Python](https://www.geeksforgeeks.org/python-dictionary/)\n",
    "Dictionaries in Python are versatile and widely used data structures that store data in key-value pairs.  Think of them like a real-world dictionary: you look up a \"key\" (a word), and you find its associated \"value\" (the definition)."
   ]
  },
  {
   "cell_type": "markdown",
   "metadata": {
    "id": "cj3TbVqUyV-p"
   },
   "source": [
    "1. **Key-Value Pairs:** Dictionaries store data as pairs of keys and their corresponding values. The keys must be immutable (e.g., strings, numbers, or tuples), while the values can be of any data type.\n",
    "2. **Unordered (Python 3.7+):** Dictionaries maintain the innsertion order of items. While this is now a guranteed feature, it's still good pracitice to not rely on the order if your needs to be compatible with older Python versions. Before 3.7, dictionaries were unordered.  \n",
    "3. **Mutable:** Dictionaries are mutable, meaning you can add, remove, or modify key-value pairs after the dictionary is created.\n",
    "4. **Syntax:** Dictionaries are defined using curly braces *{ }* :"
   ]
  },
  {
   "cell_type": "code",
   "execution_count": null,
   "metadata": {
    "id": "PttWyci-YRNI"
   },
   "outputs": [],
   "source": [
    "my_dict = {\"name\": \"Alice\", \"age\": 30, \"city\": \"New York\"}  # String keys\n",
    "another_dict = {1: \"one\", 2: \"two\", 3: \"three\"}  # Integer keys\n",
    "mixed_dict = {\"a\": 1, \"b\": \"hello\", \"c\": 3.14}  # Mixed data types\n",
    "empty_dict = {}  # An empty dictionary"
   ]
  },
  {
   "cell_type": "markdown",
   "metadata": {
    "id": "nWEU5dmp0KS9"
   },
   "source": [
    "### Key Operations and Characteristics:\n",
    "* **Creating Dictionaries:** Use curly braces *{ }* or the *dict()* constructor.\n",
    "* **Accessing Values:** Use the key to access its associated value:  "
   ]
  },
  {
   "cell_type": "code",
   "execution_count": null,
   "metadata": {
    "id": "WhMLCnAoYRQD"
   },
   "outputs": [],
   "source": [
    "my_dict = {\"name\": \"Alice\", \"age\": 30}\n",
    "print(my_dict[\"name\"])  # Output: Alice\n",
    "#print(my_dict[\"job\"]) # KeyError: 'job'"
   ]
  },
  {
   "cell_type": "markdown",
   "metadata": {
    "id": "VUSU0Ouv1J4z"
   },
   "source": [
    "* **Adding/Modifying Key-Value Pairs:**  "
   ]
  },
  {
   "cell_type": "code",
   "execution_count": null,
   "metadata": {
    "id": "bj2GdCrlYRS6"
   },
   "outputs": [],
   "source": [
    "my_dict[\"job\"] = \"Engineer\"  # Adds a new key-value pair\n",
    "print(my_dict)  # Output: {'name': 'Alice', 'age': 30, 'job': 'Engineer'}\n",
    "\n",
    "my_dict[\"age\"] = 31  # Modifies the value associated with the key \"age\"\n",
    "print(my_dict)  # Output: {'name': 'Alice', 'age': 31, 'job': 'Engineer'}"
   ]
  },
  {
   "cell_type": "markdown",
   "metadata": {
    "id": "Z05QOH3g1bLL"
   },
   "source": [
    "* **Removing Key-Value Pairs:**\n",
    " * *del my_dict[key]*: Removes the item with the specified key (raises *KeyError* if the key is not found).  \n",
    " * *my_dict.pop(key, default)*: Removes the item with the specified key and returns its value. The optional *default* argument is returned if the key is not found.  \n",
    " * *my_dict.clear( )* : Removes all items from the dictionary."
   ]
  },
  {
   "cell_type": "code",
   "execution_count": null,
   "metadata": {
    "id": "VRW6h-f3YRVv"
   },
   "outputs": [],
   "source": [
    "my_dict = {'name': 'Alice', 'age': 31, 'job': 'Engineer'}\n",
    "\n",
    "del my_dict[\"job\"]\n",
    "print(my_dict)  # Output: {'name': 'Alice', 'age': 31}\n",
    "\n",
    "age = my_dict.pop(\"age\") #returns the value associated with the key \"age\"\n",
    "print(my_dict) # Output: {'name': 'Alice'}\n",
    "print(age) # Output: 31\n",
    "\n",
    "my_dict.clear()\n",
    "print(my_dict)  # Output: {}"
   ]
  },
  {
   "cell_type": "markdown",
   "metadata": {
    "id": "JF4jBVdf2P51"
   },
   "source": [
    "* **Checking for Key Existence:** Use the *in* or *not in* operators:"
   ]
  },
  {
   "cell_type": "code",
   "execution_count": null,
   "metadata": {
    "id": "cwobqHt7YRYs"
   },
   "outputs": [],
   "source": [
    "my_dict = {\"name\": \"Alice\", \"age\": 30}\n",
    "print(\"name\" in my_dict)  # Output: True\n",
    "print(\"job\" in my_dict)   # Output: False"
   ]
  },
  {
   "cell_type": "markdown",
   "metadata": {
    "id": "-fDgafHA2p6-"
   },
   "source": [
    "* **Getting Keys, Values, or Items:**\n",
    " * *my_dict.keys( )* : Returns a view object containing the dictionary's keys.  \n",
    " * *my_dict.values( )* : Returns a view object containing the dictionary's values.\n",
    " * *my_dict.items( )* : Returns a view object containing the dictionary's key-value pairs (as tuples)."
   ]
  },
  {
   "cell_type": "code",
   "execution_count": null,
   "metadata": {
    "id": "7qkeKI_yYRbT"
   },
   "outputs": [],
   "source": [
    "my_dict = {\"name\": \"Alice\", \"age\": 30}\n",
    "print(my_dict.keys())    # Output: dict_keys(['name', 'age'])\n",
    "print(my_dict.values())  # Output: dict_values(['Alice', 30])\n",
    "print(my_dict.items())   # Output: dict_items([('name', 'Alice'), ('age', 30)])\n",
    "\n",
    "for key, value in my_dict.items():\n",
    "    print(f\"{key}: {value}\")"
   ]
  },
  {
   "cell_type": "markdown",
   "metadata": {
    "id": "XMFSnUef3MtC"
   },
   "source": [
    "* **Length:** Use the *len( )* function to get the number of key-value pairs."
   ]
  },
  {
   "cell_type": "markdown",
   "metadata": {
    "id": "BukixdSr3puh"
   },
   "source": [
    "* **Copying:** *my_dict.copy( )* creates a shallow copy of the dictionary."
   ]
  },
  {
   "cell_type": "markdown",
   "metadata": {
    "id": "8-wG9jT43vSs"
   },
   "source": [
    "**Use Cases:**\n",
    "* **Storing and retrieving data:** Representing objects with attributes (like a person with name, age, etc.).\n",
    "* **Counting occurrences:** Keeping track of how many times something appears.\n",
    "* **Implementing mappings:** Creating relationships between keys and values.\n",
    "* **Caching:** Storing results of expensive computations for quick retrieval.  "
   ]
  },
  {
   "cell_type": "code",
   "execution_count": null,
   "metadata": {
    "id": "K6Wj042U2j6W"
   },
   "outputs": [],
   "source": [
    "# Example: Counting Word Occurrences\n",
    "\n",
    "text = \"this is a sample text with some repeated words\"\n",
    "word_counts = {}\n",
    "\n",
    "for word in text.split():\n",
    "    if word in word_counts:\n",
    "        word_counts[word] += 1\n",
    "    else:\n",
    "        word_counts[word] = 1\n",
    "\n",
    "print(word_counts)\n",
    "#Output: {'this': 1, 'is': 1, 'a': 1, 'sample': 1, 'text': 1, 'with': 1, 'some': 1, 'repeated': 1, 'words': 1}"
   ]
  },
  {
   "cell_type": "markdown",
   "metadata": {
    "id": "pT4YyBCk4a9V"
   },
   "source": [
    "Note that: Dictionaries are extremely useful and a fundamental part of Python programming.  Mastering their operations and understanding their use cases will significantly improve your Python skills."
   ]
  },
  {
   "cell_type": "markdown",
   "metadata": {
    "id": "-OtP22MX5NjL"
   },
   "source": [
    "Dictionaries Operations:\n",
    "![Dict_Operations.png](data:image/png;base64,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)"
   ]
  },
  {
   "cell_type": "markdown",
   "metadata": {
    "id": "GWFZ5svUnBIR"
   },
   "source": [
    "Dictionary Methods:\n",
    "![Dict_Mehtods.png](data:image/png;base64,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)"
   ]
  },
  {
   "cell_type": "markdown",
   "metadata": {
    "id": "bAFiMa715gom"
   },
   "source": [
    "### Conclusion  \n",
    "* Dictionaries are powerful data structures in Python for storing key-value pairs.\n",
    "* They are mutable, unordered (but maintain insertion order since Python 3.7), and allow for fast lookups based on keys.\n",
    "* Dictionaries are widely used for tasks like counting occurrences, storing configurations, and representing relationships between data."
   ]
  },
  {
   "cell_type": "code",
   "execution_count": null,
   "metadata": {
    "colab": {
     "base_uri": "https://localhost:8080/"
    },
    "executionInfo": {
     "elapsed": 11526,
     "status": "ok",
     "timestamp": 1738615870416,
     "user": {
      "displayName": "Nb Baloch",
      "userId": "06738841947808833806"
     },
     "user_tz": -240
    },
    "id": "xdMRstZF3J2r",
    "outputId": "5006cfad-f049-4576-dfff-86f536450fd4"
   },
   "outputs": [
    {
     "name": "stdout",
     "output_type": "stream",
     "text": [
      "Enter text of words: john\n",
      "{'john': 1}\n"
     ]
    }
   ],
   "source": [
    "# PRACTICE\n",
    "\n",
    "# Word count: Write a function that takes a string as input and returns a dictionary\n",
    "# where the keys are the words in the string (converted to lowercase) and\n",
    "# the values are the number of times each word appears. Ignore punctuation\n",
    "import string\n",
    "\n",
    "def word_count(text):\n",
    "  word_counts = {}\n",
    "  text = text.lower() # Case-insensitive\n",
    "  text = text.translate(str.maketrans('', '', string.punctuation)) #remove punctuations\n",
    "  words = text.split()\n",
    "\n",
    "  for word in words:\n",
    "    word_counts[word] = word_counts.get(word, 0) + 1 #  efficient counting\n",
    "  return word_counts\n",
    "\n",
    "# Example usage:\n",
    "text = input(\"Enter text of words: \")\n",
    "counts = word_count(text)\n",
    "print(counts)"
   ]
  },
  {
   "cell_type": "code",
   "execution_count": null,
   "metadata": {
    "colab": {
     "base_uri": "https://localhost:8080/"
    },
    "executionInfo": {
     "elapsed": 27740,
     "status": "ok",
     "timestamp": 1738611241104,
     "user": {
      "displayName": "Nb Baloch",
      "userId": "06738841947808833806"
     },
     "user_tz": -240
    },
    "id": "vcvoweL53Juu",
    "outputId": "2de2e6b1-0ac2-4cd3-8ec6-f73810cb7ba1"
   },
   "outputs": [
    {
     "name": "stdout",
     "output_type": "stream",
     "text": [
      "Enter Student Name: Alice\n",
      "Enter Student Grade:A\n",
      "Do you want to add another student? (yes/no): no\n",
      "Enter Student Name for Grade: Alice\n",
      "A\n"
     ]
    }
   ],
   "source": [
    "# Student Grades:\n",
    "# Create a dictionary to store student names as keys and\n",
    "# their corresponding grades (e.g., \"A\", \"B\", \"C\") as values.\n",
    "student_grades = {}\n",
    "\n",
    "# Write a function to add a new student and grade to the dictionary.\n",
    "def add_student(name, grade):\n",
    "  student_grades[name] = grade\n",
    "\n",
    "# Write another function to look up a student's grade.\n",
    "def lookup_grade(name):\n",
    "  return student_grades.get(name, \"Student not found\")  # Handle missing students\n",
    "\n",
    "# example usage:\n",
    "while True:\n",
    "  names = input(\"Enter Student Name: \")\n",
    "  grades = input(\"Enter Student Grade:\")\n",
    "  add_student(f\"{names}\", f\"{grades}\")\n",
    "  choice = input(\"Do you want to add another student? (yes/no): \")\n",
    "  if choice.lower() != \"yes\":\n",
    "    break\n",
    "\n",
    "find_studend = input(\"Enter Student Name for Grade: \")\n",
    "print(lookup_grade(f\"{find_studend}\"))\n"
   ]
  },
  {
   "cell_type": "code",
   "execution_count": null,
   "metadata": {
    "colab": {
     "base_uri": "https://localhost:8080/"
    },
    "executionInfo": {
     "elapsed": 308,
     "status": "ok",
     "timestamp": 1738613129400,
     "user": {
      "displayName": "Nb Baloch",
      "userId": "06738841947808833806"
     },
     "user_tz": -240
    },
    "id": "VDRHb7UcYclg",
    "outputId": "95924494-ec03-413d-c4e6-8e527ced466f"
   },
   "outputs": [
    {
     "name": "stdout",
     "output_type": "stream",
     "text": [
      "apple not found in inventory\n",
      "10\n",
      "Apples: 10\n",
      "Banana: 20\n"
     ]
    }
   ],
   "source": [
    "# Inventory Management: Create a dictionary to represent an inventory.\n",
    "# The keys are item names, and the values are the quantities in stock.\n",
    "# Write functions to:\n",
    "inventory = {}\n",
    "\n",
    "# add new items to the inventory\n",
    "def add_item(item, quantity):\n",
    "  inventory[item] = quantity\n",
    "\n",
    "# Update the quantity of an existing item.\n",
    "def update_quantity(item, quantity):\n",
    "  if item in inventory:\n",
    "    inventory[item] += quantity   # Or inventory[item] = quantity for replacement\n",
    "  else:\n",
    "    print(f\"{item} not found in inventory\")\n",
    "\n",
    "# Check the quantity of a specific item.\n",
    "def check_quantity(item):\n",
    "  return inventory.get(item, 0)  # Default 0 if item not found\n",
    "\n",
    "# Print a summary of the inventory (item name and quantity for all items).\n",
    "def print_inventory():\n",
    "  for item, quantity in inventory.items():\n",
    "    print(f\"{item}: {quantity}\")\n",
    "\n",
    "# Example usage:\n",
    "add_item(\"Apples\", 10)\n",
    "add_item(\"Banana\", 20)\n",
    "update_quantity(\"apple\", 5)\n",
    "print(check_quantity(\"Apples\"))\n",
    "print_inventory()"
   ]
  },
  {
   "cell_type": "code",
   "execution_count": null,
   "metadata": {
    "colab": {
     "base_uri": "https://localhost:8080/"
    },
    "executionInfo": {
     "elapsed": 537,
     "status": "ok",
     "timestamp": 1738613508393,
     "user": {
      "displayName": "Nb Baloch",
      "userId": "06738841947808833806"
     },
     "user_tz": -240
    },
    "id": "Z3c4IWQWYdxC",
    "outputId": "bd404aca-bbb8-46b2-e61d-cb710feda14b"
   },
   "outputs": [
    {
     "name": "stdout",
     "output_type": "stream",
     "text": [
      "123-456-7890\n",
      "{'Alice': '123-456-7890'}\n"
     ]
    }
   ],
   "source": [
    "# Intermediate Exercises:\n",
    "\n",
    "# Phone Book: Create a dictionary to represent a phone book.  The keys are names, and the values are phone numbers.  Implement the following functionality:\n",
    "phone_book = {}\n",
    "\n",
    "# Add a new contact (name and phone number).\n",
    "def add_contact(name, phone_number):\n",
    "  phone_book[name] = phone_number\n",
    "\n",
    "# Look up a phone number by name.\n",
    "def lookup_phone(name):\n",
    "  return phone_book.get(name, \"Contact not found\")\n",
    "\n",
    "# Delete a contact.\n",
    "def delete_contact(name):\n",
    "  if name in phone_book:\n",
    "    del phone_book[name]\n",
    "  else:\n",
    "    print(f\"{name} not found in phone book\")\n",
    "\n",
    "# List all contacts (names and phone numbers).\n",
    "def list_contacts():\n",
    "  for name, phone_number in phone_book.items():\n",
    "    print(f\"{name}: {phone_number}\")\n",
    "\n",
    "# Save the phone book to a file (e.g., as a JSON file).\n",
    "import json\n",
    "\n",
    "def save_phonebook(filename):\n",
    "  with open(filename, 'w') as file:\n",
    "    json.dump(phone_book, file)\n",
    "\n",
    "# Load the phone book from a file.\n",
    "def load_phonebook(filename):\n",
    "  try:\n",
    "    with open(filename, 'r') as f:\n",
    "      return phone_book.update(json.load(f))\n",
    "  except FileNotFoundError:\n",
    "    print(\"Phopnebook file not found.\")\n",
    "\n",
    "# Example (Add, lookup, save, load):\n",
    "add_contact(\"Alice\", \"123-456-7890\")\n",
    "add_contact(\"Alice\", \"123-456-7890\")\n",
    "print(lookup_phone(\"Alice\"))\n",
    "save_phonebook(\"my_phonebook.json\") # Save the phonebook\n",
    "phone_book = {} # Clear the existing phonebook in memory\n",
    "load_phonebook(\"my_phonebook.json\") # Load the phonebook from the file\n",
    "print(phone_book) # Print the loaded phonebook from the file"
   ]
  },
  {
   "cell_type": "code",
   "execution_count": null,
   "metadata": {
    "colab": {
     "base_uri": "https://localhost:8080/"
    },
    "executionInfo": {
     "elapsed": 354,
     "status": "ok",
     "timestamp": 1738616599185,
     "user": {
      "displayName": "Nb Baloch",
      "userId": "06738841947808833806"
     },
     "user_tz": -240
    },
    "id": "J4d7V8PgYd0G",
    "outputId": "f35413bc-0317-4c67-c79f-1359db227b84"
   },
   "outputs": [
    {
     "name": "stdout",
     "output_type": "stream",
     "text": [
      "{1: 1, 2: 4, 3: 9, 4: 16, 5: 25}\n"
     ]
    }
   ],
   "source": [
    "# Dictionary Comprehension\n",
    "\n",
    "squares = {i: i**2 for i in range(1, 6)}\n",
    "print(squares)"
   ]
  },
  {
   "cell_type": "code",
   "execution_count": null,
   "metadata": {
    "colab": {
     "base_uri": "https://localhost:8080/"
    },
    "executionInfo": {
     "elapsed": 300,
     "status": "ok",
     "timestamp": 1738617107979,
     "user": {
      "displayName": "Nb Baloch",
      "userId": "06738841947808833806"
     },
     "user_tz": -240
    },
    "id": "-xcjfuhnYd26",
    "outputId": "696d1a4c-740d-4533-bd20-34f9cfd85a33"
   },
   "outputs": [
    {
     "name": "stdout",
     "output_type": "stream",
     "text": [
      "Even Square: {2: 4, 4: 16, 6: 36, 8: 64, 10: 100}\n",
      "Odd Squares: {1: 1, 3: 9, 5: 25, 7: 49, 9: 81}\n"
     ]
    },
    {
     "data": {
      "text/plain": [
       "{'phone': 15, 'charger': 25, 'airpods': 20}"
      ]
     },
     "execution_count": 18,
     "metadata": {},
     "output_type": "execute_result"
    }
   ],
   "source": [
    "# Using if condition\n",
    "even_squares = {i: i**2 for i in range(1, 11) if i % 2 == 0}\n",
    "print(f\"Even Square: {even_squares}\")\n",
    "\n",
    "odd_squares = {i: i**2 for i in range(1, 11) if i % 2 != 0}\n",
    "print(f\"Odd Squares: {odd_squares}\")\n",
    "\n",
    "products = {'phone': 15, 'laptop': 0, 'charger': 25, 'airpods': 20}\n",
    "{key:value for (key, value) in products.items() if value > 0} # It will select products above 0"
   ]
  },
  {
   "cell_type": "code",
   "execution_count": null,
   "metadata": {
    "colab": {
     "base_uri": "https://localhost:8080/"
    },
    "executionInfo": {
     "elapsed": 309,
     "status": "ok",
     "timestamp": 1738617243196,
     "user": {
      "displayName": "Nb Baloch",
      "userId": "06738841947808833806"
     },
     "user_tz": -240
    },
    "id": "FE7pBaJMYd5r",
    "outputId": "f50171df-1f2d-4e91-8301-39adc0f13f2e"
   },
   "outputs": [
    {
     "data": {
      "text/plain": [
       "{'Monday': 15.2, 'Tuesday': 24.6, 'Wednesday': 31.9}"
      ]
     },
     "execution_count": 19,
     "metadata": {},
     "output_type": "execute_result"
    }
   ],
   "source": [
    "# using zip\n",
    "days = [\"Monday\", \"Tuesday\", \"Wednesday\"]\n",
    "tempr_C = [15.2, 24.6, 31.9]\n",
    "\n",
    "{i:j for (i, j) in zip(days, tempr_C)}"
   ]
  },
  {
   "cell_type": "markdown",
   "metadata": {
    "id": "D_lDFjDdrazL"
   },
   "source": [
    "### **Building a Restaurant Management System**"
   ]
  },
  {
   "cell_type": "code",
   "execution_count": null,
   "metadata": {
    "colab": {
     "base_uri": "https://localhost:8080/"
    },
    "executionInfo": {
     "elapsed": 3464,
     "status": "ok",
     "timestamp": 1738679356407,
     "user": {
      "displayName": "Nb Baloch",
      "userId": "06738841947808833806"
     },
     "user_tz": -240
    },
    "id": "MIdmV58XYd8V",
    "outputId": "002caff1-53f7-444e-baea-478c5afad21f"
   },
   "outputs": [
    {
     "name": "stdout",
     "output_type": "stream",
     "text": [
      "\n",
      "Welcome to Our Restaurant!\n",
      "-------------------------\n",
      "Menu:\n",
      "burger: 10.99\n",
      "pizza: 12.99\n",
      "pasta: 11.99\n",
      "salad: 8.99\n",
      "chicken wings: 9.99\n",
      "\n",
      "Enter the name of the item for order: \n",
      " is not available in the menu.\n",
      "Do you want to order anything else? (yes/no): \n",
      "Your Total Price is $0.\n"
     ]
    }
   ],
   "source": [
    "menu = {\n",
    "    \"burger\": 10.99,\n",
    "    \"pizza\": 12.99,\n",
    "    \"pasta\": 11.99,\n",
    "    \"salad\": 8.99,\n",
    "    \"chicken wings\": 9.99\n",
    "}\n",
    "\n",
    "print(\"\"\"\n",
    "Welcome to Our Restaurant!\n",
    "-------------------------\n",
    "Menu:\n",
    "burger: 10.99\n",
    "pizza: 12.99\n",
    "pasta: 11.99\n",
    "salad: 8.99\n",
    "chicken wings: 9.99\n",
    "\"\"\"\n",
    ")\n",
    "\n",
    "total_price = 0\n",
    "\n",
    "try:\n",
    "  item1 = input(\"Enter the name of the item for order: \")\n",
    "  if item1 in menu:\n",
    "    total_price += menu[item1]\n",
    "    print(f\"{item1} added to the order. Your Total is ${total_price}\")\n",
    "  else:\n",
    "    print(f\"{item1} is not available in the menu.\")\n",
    "\n",
    "  other_order = input(\"Do you want to order anything else? (yes/no): \")\n",
    "  if other_order.lower() == \"yes\":\n",
    "    item2 = input(\"Enter the name of the item for order: \")\n",
    "    if item2 in menu:\n",
    "      total_price += menu[item2]\n",
    "      print(f\"{item2} added to the order. Your Total is ${total_price}\")\n",
    "    else:\n",
    "      print(f\"{item2} is not available in the menu.\")\n",
    "  elif other_order.lower() == \"no\":\n",
    "    print(f\"Your Total Price is ${total_price}.\")\n",
    "  else:\n",
    "    print(f\"Your Total Price is ${total_price}.\")\n",
    "except Exception as e:\n",
    "  print(f\"An error occured: {e}\")"
   ]
  },
  {
   "cell_type": "code",
   "execution_count": null,
   "metadata": {
    "id": "4reV4y5rYd_E"
   },
   "outputs": [],
   "source": [
    "# OR\n",
    "\n",
    "# Restaurand Management System\n",
    "items = []\n",
    "# 1. Add a new item\n",
    "def add_item():\n",
    "    item = input(\"Enter the item: \")\n",
    "    price = input(\"Enter the price: \")\n",
    "    items.append({\"item\": item, \"price\": price})\n",
    "    print(\"Item added successfully\")\n",
    "\n",
    "# 2. Remove an item\n",
    "def remove_item():\n",
    "    item = input(\"Enter the item to remove: \")\n",
    "    for i in items:\n",
    "        if i[\"item\"] == item:\n",
    "            items.remove(i)\n",
    "            print(\"Item removed successfully\")\n",
    "            break\n",
    "    else:\n",
    "        print(\"Item not found\")\n",
    "# 3. Update an item\n",
    "\n",
    "def update_item():\n",
    "    item = input(\"Enter the item to update: \")\n",
    "    for i in items:\n",
    "        if i[\"item\"] == item:\n",
    "            new_price = input(\"Enter the new price: \")\n",
    "# 4. View all items\n",
    "def view_items():\n",
    "    for i in items:\n",
    "        print(f\"{i['item']}, ${i['price']}\")\n",
    "# 5. Exit\n",
    "def exit():\n",
    "    print(\"Exiting the program\")\n",
    "    quit()\n",
    "\n",
    "while True:\n",
    "    print(\"\\n1. Add item\")\n",
    "    print(\"2. Remove item\")\n",
    "    print(\"3. Update item\")\n",
    "    print(\"4. View items\")\n",
    "    print(\"5. Exit\")\n",
    "    choice = input(\"Enter your choice: \")\n",
    "    if choice == \"1\":\n",
    "        add_item()\n",
    "    elif choice == \"2\":\n",
    "        remove_item()\n",
    "    elif choice == \"3\":\n",
    "        update_item()\n",
    "    elif choice == \"4\":\n",
    "        view_items()\n",
    "    elif choice == \"5\":\n",
    "        exit()\n",
    "    else:\n",
    "        print(\"Invalid choice\")\n",
    "# 6. View all items\n",
    "# 7. Exit"
   ]
  },
  {
   "cell_type": "code",
   "execution_count": null,
   "metadata": {
    "id": "dOCX2dmMGNM6"
   },
   "outputs": [],
   "source": []
  }
 ],
 "metadata": {
  "colab": {
   "authorship_tag": "ABX9TyMKJjvhnmKypFJ/h1NRIVo5",
   "provenance": []
  },
  "kernelspec": {
   "display_name": "Python 3",
   "name": "python3"
  },
  "language_info": {
   "name": "python"
  }
 },
 "nbformat": 4,
 "nbformat_minor": 0
}
